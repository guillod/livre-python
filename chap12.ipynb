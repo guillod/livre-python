{
 "cells": [
  {
   "cell_type": "markdown",
   "id": "fa9c8dc0",
   "metadata": {},
   "source": [
    "<div style=\"width:100%\"><a href=\"https://www.dunod.com/sciences-techniques/programmation-python-par-pratique-problemes-et-exercices-corriges-0\"><img src=\"https://python.guillod.org/livre/banner2.png\"/></a></div>\n",
    "\n",
    "Ce fichier reflète les énoncés des exercices d'un chapitre de la deuxième édition du livre *[Programmation Python par la pratique](https://www.dunod.com/sciences-techniques/programmation-python-par-pratique-problemes-et-exercices-corriges-0)*. Tous les énoncés peuvent être téléchargés au format [Jupyter Notebook](https://python.guillod.org/livre/) ou exécutés directement en ligne sur [GESIS](https://notebooks.gesis.org/binder/v2/gh/guillod/livre-python/HEAD). Les corrigés sont disponibles dans le livre en version papier (ISBN [9782100862122](https://www.dunod.com/sciences-techniques/programmation-python-par-pratique-problemes-et-exercices-corriges-0)) ou numérique (ISBN [9782100875153](https://www.dunod.com/sciences-techniques/programmation-python-par-pratique-problemes-et-exercices-corriges-0)) publiés chez Dunod. Ce fichier reflète les exercices tels que publiés dans cet ouvrage et diffère quelque peu des exercices présentés à la page [python.guillod.org](https://python.guillod.org/)."
   ]
  },
  {
   "cell_type": "markdown",
   "id": "9f8c3792",
   "metadata": {},
   "source": [
    "# 12 Science des données"
   ]
  },
  {
   "cell_type": "markdown",
   "id": "44406686",
   "metadata": {},
   "source": [
    "<div id=\"ch:data-science\"></div>\n",
    "\n",
    "La méthodologie de la science des données consiste à utiliser les données disponibles (généralement une grande quantité) pour répondre à des questions.\n",
    "Le traitement d'un grand nombre de données est peu compatible avec les structures de données par défaut de Python ou Numpy.\n",
    "Dans un premier temps, le module Pandas, spécialement conçu pour analyser les données, sera présenté.\n",
    "La documentation de Pandas est disponible [ici](https://pandas.pydata.org/docs/).\n",
    "\n",
    "Pour charger le module Pandas, il est habituel de procéder comme suit :"
   ]
  },
  {
   "cell_type": "code",
   "execution_count": 1,
   "id": "84a7c2e3",
   "metadata": {
    "collapsed": false
   },
   "outputs": [],
   "source": [
    "import pandas as pd"
   ]
  },
  {
   "cell_type": "markdown",
   "id": "6a2136f0",
   "metadata": {},
   "source": [
    "Ensuite, des données réelles seront analysées en faisant des statistiques sur la proportion de nombres commençant par un\n",
    "certain chiffre, ainsi qu'en déterminant des tendances.\n",
    "Finalement, trois aspects d'apprentissage automatiques (*machine learning*) seront vus, avec la reconnaissance de chiffres manuscrits, la différentiation automatique et l'utilisation d'un réseau de neurones.\n",
    "\n",
    "**Concepts abordés:**\n",
    "\n",
    "* importation et analyse de données\n",
    "\n",
    "* utilisation de Pandas\n",
    "\n",
    "* loi de Benford\n",
    "\n",
    "* méthodes des moindres carrés\n",
    "\n",
    "* classification d'images\n",
    "\n",
    "* différentiation automatique\n",
    "\n",
    "* réseau de neurones"
   ]
  },
  {
   "cell_type": "markdown",
   "id": "c2c07192",
   "metadata": {},
   "source": [
    "# Exercice 12.1: Introduction à Pandas"
   ]
  },
  {
   "cell_type": "markdown",
   "id": "de101998",
   "metadata": {},
   "source": [
    "**Création.**\n",
    "Dans Pandas, une table de données est un `DataFrame` et la construction d'une table peut se faire manuellement à partir d'un dictionnaire, par exemple:"
   ]
  },
  {
   "cell_type": "code",
   "execution_count": 2,
   "id": "f306ea43",
   "metadata": {
    "collapsed": false
   },
   "outputs": [],
   "source": [
    "df = pd.DataFrame(\n",
    "    {\n",
    "        \"Nom\": [\n",
    "            \"M. Harris Braund\",\n",
    "            \"M. William Allen\",\n",
    "            \"Mme Elizabeth Bonnell\",\n",
    "        ],\n",
    "        \"Age\": [22, 35, 58],\n",
    "        \"Genre\": [\"homme\", \"homme\", \"femme\"],\n",
    "    }\n",
    ")"
   ]
  },
  {
   "cell_type": "markdown",
   "id": "92a2aa8a",
   "metadata": {},
   "source": [
    "Dans Jupyter Lab, il suffit d'exécuter la cellule:"
   ]
  },
  {
   "cell_type": "code",
   "execution_count": 3,
   "id": "c4378b23",
   "metadata": {
    "collapsed": false
   },
   "outputs": [],
   "source": [
    "df"
   ]
  },
  {
   "cell_type": "markdown",
   "id": "c3e38926",
   "metadata": {},
   "source": [
    "pour afficher le tableau. On peut voir ici qu'il se compose de trois colonnes (avec les étiquettes données) et de trois lignes étiquetées par défaut par des nombres entiers.\n",
    "\n",
    "**Extraction de colonnes.**\n",
    "Une seule colonne d'un `DataFrame` est appelée une `Series` et peut être facilement extraite:"
   ]
  },
  {
   "cell_type": "code",
   "execution_count": 4,
   "id": "55e68ac5",
   "metadata": {
    "collapsed": false
   },
   "outputs": [],
   "source": [
    "df[\"Age\"]"
   ]
  },
  {
   "cell_type": "markdown",
   "id": "e3656d3d",
   "metadata": {},
   "source": [
    "Sur une telle colonne, des statistiques peuvent être réalisées de manière simple, par exemple pour déterminer les personnes les plus âgées et l'âge moyen:"
   ]
  },
  {
   "cell_type": "code",
   "execution_count": 5,
   "id": "cf02227a",
   "metadata": {
    "collapsed": false
   },
   "outputs": [],
   "source": [
    "df[\"Age\"].max(), df[\"Age\"].mean()"
   ]
  },
  {
   "cell_type": "markdown",
   "id": "94abdb66",
   "metadata": {},
   "source": [
    "Deux colonnes peuvent également être extraites:"
   ]
  },
  {
   "cell_type": "code",
   "execution_count": 6,
   "id": "bafb0760",
   "metadata": {
    "collapsed": false
   },
   "outputs": [],
   "source": [
    "df[[\"Age\", \"Genre\"]]"
   ]
  },
  {
   "cell_type": "markdown",
   "id": "f18fd342",
   "metadata": {},
   "source": [
    "**Création d'une nouvelle colonne.**\n",
    "Il est également possible d'ajouter des données supplémentaires, par exemple une nouvelle colonne avec 100 divisé par les âges:"
   ]
  },
  {
   "cell_type": "code",
   "execution_count": 7,
   "id": "e064ff8e",
   "metadata": {
    "collapsed": false
   },
   "outputs": [],
   "source": [
    "df[\"Age inv\"] = 100/df[\"Age\"]\n",
    "df"
   ]
  },
  {
   "cell_type": "markdown",
   "id": "3766ba39",
   "metadata": {},
   "source": [
    "Ces opérations se font élément par élément. Il n'est donc pas nécessaire d'utiliser une boucle, à l'instar de Numpy, même pour des logiques plus complexes:"
   ]
  },
  {
   "cell_type": "code",
   "execution_count": 8,
   "id": "3185bcc5",
   "metadata": {
    "collapsed": false
   },
   "outputs": [],
   "source": [
    "def myfunction(l):\n",
    "    if l[\"Genre\"] == \"homme\":\n",
    "        return l[\"Age\"]+5\n",
    "    else:\n",
    "        return l[\"Age\"]+2\n",
    "df[\"Age new\"] = df.apply(myfunction, axis=1)"
   ]
  },
  {
   "cell_type": "markdown",
   "id": "fb65424d",
   "metadata": {},
   "source": [
    "**Extraction de lignes.**\n",
    "La sélection de lignes répondant à certains critères est très importante et assez simple, par exemple pour les personnes âgées de plus de 30 ans:"
   ]
  },
  {
   "cell_type": "code",
   "execution_count": 9,
   "id": "3a0b3ed2",
   "metadata": {
    "collapsed": false
   },
   "outputs": [],
   "source": [
    "df[df[\"Age\"]>30]"
   ]
  },
  {
   "cell_type": "markdown",
   "id": "b1245593",
   "metadata": {},
   "source": [
    "ou les femmes âgées de plus de 30 ans:"
   ]
  },
  {
   "cell_type": "code",
   "execution_count": 10,
   "id": "7717560d",
   "metadata": {
    "collapsed": false
   },
   "outputs": [],
   "source": [
    "df[(df[\"Age\"]>30) & (df[\"Genre\"]==\"femme\")]"
   ]
  },
  {
   "cell_type": "markdown",
   "id": "d9274567",
   "metadata": {},
   "source": [
    "Ce concept est très similaire à l'indexation Numpy. Pour une sélection plus complexe, nous pourrions utiliser la syntaxe suivante:"
   ]
  },
  {
   "cell_type": "code",
   "execution_count": 11,
   "id": "b314498b",
   "metadata": {
    "collapsed": false
   },
   "outputs": [],
   "source": [
    "value=3\n",
    "df.query('`Age inv`>@value and Genre==\"homme\"')"
   ]
  },
  {
   "cell_type": "markdown",
   "id": "6d71363f",
   "metadata": {},
   "source": [
    "**Slicing.**\n",
    "Comme pour Numpy, il est possible d'utiliser le slicing pour sélectionner une partie du tableau:"
   ]
  },
  {
   "cell_type": "code",
   "execution_count": 12,
   "id": "fd00374e",
   "metadata": {
    "collapsed": false
   },
   "outputs": [],
   "source": [
    "df.loc[0:1, \"Genre\":\"Age new\"]"
   ]
  },
  {
   "cell_type": "markdown",
   "id": "1e105567",
   "metadata": {},
   "source": [
    "À remarquer que les points d'extrémité sont inclus, contrairement à la méthode standard de Python. Cependant, voici le slicing sans les points d'extrémité:"
   ]
  },
  {
   "cell_type": "code",
   "execution_count": 13,
   "id": "d2fffdb0",
   "metadata": {
    "collapsed": false
   },
   "outputs": [],
   "source": [
    "df.iloc[0:2,3:5]"
   ]
  },
  {
   "cell_type": "markdown",
   "id": "fecce58e",
   "metadata": {},
   "source": [
    "**Représentations graphiques.**\n",
    "Enfin, les données peuvent être représentées graphiquement de différentes manières. La manière la plus simple est de faire:"
   ]
  },
  {
   "cell_type": "code",
   "execution_count": 14,
   "id": "d78fa8fc",
   "metadata": {
    "collapsed": false
   },
   "outputs": [],
   "source": [
    "df.plot(x=\"Nom\", y=[\"Age\",\"Age inv\"])"
   ]
  },
  {
   "cell_type": "markdown",
   "id": "374b9d9b",
   "metadata": {},
   "source": [
    "**a)**\n",
    "Télécharger au format CSV les données de la Banque mondiale sur l'éducation disponibles à l'adresse: <https://data.worldbank.org/topic/education>."
   ]
  },
  {
   "cell_type": "markdown",
   "id": "76e6f48d",
   "metadata": {},
   "source": [
    "**b)**\n",
    "En inspectant les fichiers précédents, extraire les données nécessaires afin d'obtenir une table à deux colonnes, la première contenant les codes des pays, la seconde les noms des pays.\n",
    "\n",
    "**Indication.**\n",
    "Utiliser la fonction `read_csv` pour lire un fichier CSV avec Pandas."
   ]
  },
  {
   "cell_type": "markdown",
   "id": "cd74c7d5",
   "metadata": {},
   "source": [
    "**c)**\n",
    "En regardant la documentation des fonctions `rename` et `set_index`, renommer les étiquettes de colonnes en `code` et `country`, puis définir le code du pays comme index de ligne.\n",
    "Le but est que le nom du pays puisse ensuite être déterminé à partir de son code avec la fonction `loc[\"FRA\"]`."
   ]
  },
  {
   "cell_type": "markdown",
   "id": "10128c12",
   "metadata": {},
   "source": [
    "**d)**\n",
    "Déterminer le code du Zimbabwe avec le tableau précédent."
   ]
  },
  {
   "cell_type": "markdown",
   "id": "84f1b172",
   "metadata": {},
   "source": [
    "**e)**\n",
    "Déterminer, dans les données téléchargées précédemment, le code associé à la proportion de chômage ainsi que celui correspondant à la proportion de personnes ayant au moins un master.\n",
    "\n",
    "**Indication.**\n",
    "Rechercher dans le fichier `Metadata_Indicator...` les chaînes «Unemployment» et «Master»."
   ]
  },
  {
   "cell_type": "markdown",
   "id": "3854f386",
   "metadata": {},
   "source": [
    "**f)**\n",
    "Tracer l'évolution du taux de chômage en France.\n",
    "\n",
    "**Indication.**\n",
    "Le fichier `API...` contient un en-tête et commence seulement à la ligne 5; utiliser l'option `skiprows=4` pour ignorer l'en-tête."
   ]
  },
  {
   "cell_type": "markdown",
   "id": "87c4a7f3",
   "metadata": {},
   "source": [
    "**g)**\n",
    "Écrire une fonction `time_plot(code, countries)` permettant de tracer l'évolution temporelle de l'indicateur `code` pour les pays de la liste `countries`. La tester sur le taux de chômage et la proportion de personnes ayant au moins un master pour différents pays."
   ]
  },
  {
   "cell_type": "markdown",
   "id": "d891511c",
   "metadata": {},
   "source": [
    "# Exercice 12.2: Loi de Benford"
   ]
  },
  {
   "cell_type": "markdown",
   "id": "f486e8ac",
   "metadata": {},
   "source": [
    "La loi de Benford prédit que statistiquement dans une liste de nombres donnés, la probabilité qu'un de ces nombres commence par le chiffre 1 est plus importante que celle qu'il commence par le chiffre 9. Plus précisément la loi de Benford prédit que la probabilité qu'un nombre commence par le chiffre $d$ est:"
   ]
  },
  {
   "cell_type": "markdown",
   "id": "0afb8f2e",
   "metadata": {},
   "source": [
    "$$\n",
    "p_d = \\log_{10}\\bigg(1+\\frac{1}{d}\\bigg) \\,,\n",
    "$$"
   ]
  },
  {
   "cell_type": "markdown",
   "id": "c1c38eea",
   "metadata": {},
   "source": [
    "où $\\log_{10}$ désigne le logarithme en base 10.\n",
    "Il est possible de vérifier que la loi de Benford est la seule qui reste invariante par changement d'unités,\n",
    "c'est-à-dire qu'en multipliant les nombres de la liste par une constante, les probabilités précédentes restent inchangées.\n",
    "\n",
    "**a)**\n",
    "Écrire une fonction `firstdigit(n)` qui pour un nombre `n` donné retourne son premier chiffre et une fonction `occurrences(liste)` qui retourne le nombre d'occurrences des premiers chiffres de `liste`.\n",
    "\n",
    "**Indication.**\n",
    "Faire en sorte que la fonction `occurrences` fonctionne même si la liste contient des zéros en les ignorant."
   ]
  },
  {
   "cell_type": "markdown",
   "id": "4a03bdc4",
   "metadata": {},
   "source": [
    "**b)**\n",
    "Vérifier si la loi de Benford semble satisfaite pour la suite des nombres $(2^n)_ {n\\in\\mathbb{N}}$ en comparant l'histogramme empirique avec la loi de Benford."
   ]
  },
  {
   "cell_type": "markdown",
   "id": "1b4cd792",
   "metadata": {},
   "source": [
    "**c)**\n",
    "Vérifier si la loi de Benford semble satisfaite pour la suite des nombres $(3n+1)_ {n\\in\\mathbb{N}}$."
   ]
  },
  {
   "cell_type": "markdown",
   "id": "71a45ed5",
   "metadata": {},
   "source": [
    "**d)**\n",
    "En allant sur le site de l'INSEE à l'adresse: <https://www.insee.fr/fr/statistiques/7631680>, télécharger le fichier au format CSV contenant les données de la population française par sexe et âge regroupé (POP1A). Importer ces données pour avoir la population par code postal, sexe et tranche d'âge.\n",
    "\n",
    "**Indication.**\n",
    "La documentation sur comment lire un fichier est disponible [ici](https://docs.python.org/fr/3/tutorial/inputoutput.html#reading-and-writing-files). Il est également possible d'utiliser Pandas."
   ]
  },
  {
   "cell_type": "markdown",
   "id": "435548b4",
   "metadata": {},
   "source": [
    "**e)**\n",
    "Déterminer si la liste de toutes les populations par commune, sexe et âge suit la loi de Benford."
   ]
  },
  {
   "cell_type": "markdown",
   "id": "54ed184d",
   "metadata": {},
   "source": [
    "**f)**\n",
    "Sommer les données précédentes pour obtenir la liste des populations par commune et déterminer si elle suit la loi de Benford."
   ]
  },
  {
   "cell_type": "markdown",
   "id": "613901a8",
   "metadata": {},
   "source": [
    "**g)**\n",
    "Refaire les deux questions précédentes mais avec le fichier de population POP1B avec les âges non regroupés et en utilisant Pandas."
   ]
  },
  {
   "cell_type": "markdown",
   "id": "5673b1bd",
   "metadata": {},
   "source": [
    "**h)**\n",
    "<font color=\"red\">!!</font> En allant sur le site de l'INSEE ou autre, télécharger son jeu de données préféré et tester s'il suit la loi de Benford.\n",
    "\n",
    "**Indication.**\n",
    "Utiliser par exemple les comptes détaillés de l'État disponibles [ici](https://www.data.gouv.fr/fr/datasets/donnees-de-comptabilite-generale-de-letat/)."
   ]
  },
  {
   "cell_type": "markdown",
   "id": "630b23db",
   "metadata": {},
   "source": [
    "# Exercice 12.3: Méthode des moindres carrés"
   ]
  },
  {
   "cell_type": "markdown",
   "id": "79775186",
   "metadata": {},
   "source": [
    "**a)**\n",
    "Reprendre les données de l'INSEE de la population française par sexe et âge [POP1B](https://www.insee.fr/fr/statistiques/7631680).\n",
    "Écrire une fonction `pop(code)` qui retourne sous forme de liste ou de vecteur Numpy la population par âge, sans distinction homme-femme, dans la commune de code postal `code`. Utiliser cette fonction pour déterminer le nombre total de personnes habitant dans la commune de code postal 75102."
   ]
  },
  {
   "cell_type": "markdown",
   "id": "a6c35147",
   "metadata": {},
   "source": [
    "**b)**\n",
    "Écrire une fonction `plot_pop(code)` affichant graphiquement les fractions de la population\n",
    "(normalisées par la population totale de la commune) en fonction de l'âge, sans distinction homme-femme, dans la commune de code postal `code`.\n",
    "Tester pour les communes de code postal 13201 et 75102."
   ]
  },
  {
   "cell_type": "markdown",
   "id": "e48114ea",
   "metadata": {},
   "source": [
    "Pour une commune donnée, si on note $p(a)$ la fraction de la population ayant l'âge $a$,\n",
    "on cherche les coefficients $r_0$, $r_1$, $r_2$ tels que la loi"
   ]
  },
  {
   "cell_type": "markdown",
   "id": "a56708a3",
   "metadata": {},
   "source": [
    "$$\n",
    "p(a) = r_0+r_1a+r_2a^2\n",
    "$$"
   ]
  },
  {
   "cell_type": "markdown",
   "id": "689c6391",
   "metadata": {},
   "source": [
    "soit la mieux satisfaite pour les âges $a\\geq25$.\n",
    "Pour cela, on résout le problème aux moindres carrés:"
   ]
  },
  {
   "cell_type": "markdown",
   "id": "687fbdc3",
   "metadata": {},
   "source": [
    "$$\n",
    "\\min_{\\boldsymbol{r}\\in \\mathbb{R}^3}||X\\boldsymbol{r}-\\boldsymbol{p}||^2\n",
    "$$"
   ]
  },
  {
   "cell_type": "markdown",
   "id": "54585bc4",
   "metadata": {},
   "source": [
    "où $\\boldsymbol{a}=(25,26,\\dots,100)$ est le vecteur des âges, \n",
    "$X$ est la matrice $76\\times 3$ telle que $X_{i,1}=1$, $X_{i,2}=a_i$, $X_{i,3}=a_i^2$ et\n",
    "$\\boldsymbol{p}$ est le vecteur des populations par âge $p_i = p(a_i)$.\n",
    "La solution de ce problème est $\\boldsymbol{r} = (r_0,r_1,r_2)\\in \\mathbb{R}^3$. Cette solution satisfait l'équation:"
   ]
  },
  {
   "cell_type": "markdown",
   "id": "d5f88d00",
   "metadata": {},
   "source": [
    "$$\n",
    "X^{\\mathsf{T}}X\\boldsymbol{r}=X^{\\mathsf{T}}\\boldsymbol{p}\n",
    "$$"
   ]
  },
  {
   "cell_type": "markdown",
   "id": "a5bdd103",
   "metadata": {},
   "source": [
    "où $X^{\\mathsf{T}}$ désigne la transposée de $X$.\n",
    "\n",
    "**c)**\n",
    "Pour la commune 13201, former la matrice $X$ et le vecteur $\\boldsymbol{p}$, puis déterminer la solution $\\boldsymbol{r}$."
   ]
  },
  {
   "cell_type": "markdown",
   "id": "24dc3275",
   "metadata": {},
   "source": [
    "**d)**\n",
    "Pour les communes de code postal 13201 et 75102, tracer la courbe théorique $r_0+r_1a+r_2a^2$ en fonction de l'âge par-dessus les données."
   ]
  },
  {
   "cell_type": "markdown",
   "id": "c5de495e",
   "metadata": {},
   "source": [
    "# Exercice 12.4: Reconnaissance de chiffres manuscrits"
   ]
  },
  {
   "cell_type": "markdown",
   "id": "e83d6db2",
   "metadata": {},
   "source": [
    "Le but de cet exercice est de classifier des images de chiffres manuscrits, c'est-à-dire de reconnaître des chiffres écrit à la main.\n",
    "Il s'agit d'un exemple simple d'apprentissage automatique et une de ces premières applications industrielles à la lecture automatique des chèques ou des codes postaux.\n",
    "\n",
    "Le jeu de données de chiffres manuscrits scannés provient du [UCI ML repository](https://archive.ics.uci.edu/ml/datasets/Optical+Recognition+of+Handwritten+Digits).\n",
    "Pour importer ce jeu de données, il y a deux possibilités. Si le paquet scikit-learn (nom d'import `sklearn`) est installé, il suffit d'exécuter:"
   ]
  },
  {
   "cell_type": "code",
   "execution_count": 53,
   "id": "13ea165d",
   "metadata": {
    "collapsed": false
   },
   "outputs": [],
   "source": [
    "from sklearn.datasets import load_digits\n",
    "digits = load_digits()\n",
    "X, y = digits.data, digits.target"
   ]
  },
  {
   "cell_type": "markdown",
   "id": "9bed3406",
   "metadata": {},
   "source": [
    "Dans le cas où le module `sklearn` est indisponible, il est possible utiliser les commandes suivantes à la place pour charger les données:"
   ]
  },
  {
   "cell_type": "code",
   "execution_count": 54,
   "id": "79796ea8",
   "metadata": {
    "collapsed": false
   },
   "outputs": [],
   "source": [
    "import urllib.request, gzip, io\n",
    "# lien à télécharger\n",
    "url = \"https://raw.githubusercontent.com/scikit-learn/scikit-learn/main/sklearn/datasets/data/digits.csv.gz\"\n",
    "# télécharge le fichier gz\n",
    "file = urllib.request.urlopen(url)\n",
    "# extrait le fichier gz\n",
    "file = gzip.GzipFile(fileobj=io.BytesIO(file.read()))\n",
    "# importe le fichier txt\n",
    "digits = np.loadtxt(file, delimiter =',')\n",
    "# extrait les images et les labels\n",
    "X, y = digits[:,:-1], digits[:,-1]"
   ]
  },
  {
   "cell_type": "markdown",
   "id": "2806a32a",
   "metadata": {},
   "source": [
    "Dans les deux cas, `X` est un tableau Numpy qui contient de nombreux exemples de chiffres manuscrits, numérisés en image de 8x8 pixels et stockés sous forme de tableaux de 64 nombres flottants.\n",
    "La variable `y` contient l'entier entre 0 et 9 correspondant au chiffre numérisé. On parle de *label*.\n",
    "\n",
    "**a)**\n",
    "Déterminer les dimensions de `X` et `y` puis en déduire le nombre d'exemples contenus dans la base de données."
   ]
  },
  {
   "cell_type": "markdown",
   "id": "a80377c7",
   "metadata": {},
   "source": [
    "**b)**\n",
    "Afficher les données contenues dans `X` associées à l'indice `idx=12`.\n",
    "Il s'agit donc de la douzième ligne du tableau `X` en commençant la numérotation à zéro."
   ]
  },
  {
   "cell_type": "markdown",
   "id": "516ee0ba",
   "metadata": {},
   "source": [
    "**c)**\n",
    "À l'aide des fonctions `reshape` de Numpy et `imshow` de Matplotlib, afficher l'image d'indice `idx=12`.\n",
    "Il est possible d'utiliser l'argument `cmap='gray'` dans l'appel de `imshow` pour afficher le résultat en niveau de gris.\n",
    "Quel chiffre est ainsi codé?"
   ]
  },
  {
   "cell_type": "markdown",
   "id": "9ca2a75b",
   "metadata": {},
   "source": [
    "Pour chacune des classes de chiffre (de 0 à 9), l'idée est de calculer son centroïde, *i.e.* la représentation «moyenne» d'une classe.\n",
    "\n",
    "**d)**\n",
    "Définir les sous-tableaux de `X` et de `y` correspondant à tous les chiffres 0 numérisés."
   ]
  },
  {
   "cell_type": "markdown",
   "id": "8decce70",
   "metadata": {},
   "source": [
    "**e)**\n",
    "Pour l'ensemble des 0 de la question précédente, calculer pour chaque pixel la valeur moyenne, afin de définir le «zéro moyen»."
   ]
  },
  {
   "cell_type": "markdown",
   "id": "9a1243cf",
   "metadata": {},
   "source": [
    "**f)**\n",
    "Pour l'ensemble des chiffres de 0 à 9 tracer sur une même ligne l'image moyenne associée\n",
    ":\n",
    "\n",
    "<center><img src=\"data:image/png;base64,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\" style=\"width:90%;max-width:800px;\"></center>\n",
    "\n",
    "**Indication.**\n",
    "Utiliser la fonction `subplot` de Matplotlib."
   ]
  },
  {
   "cell_type": "markdown",
   "id": "ad8b9d43",
   "metadata": {},
   "source": [
    "Finalement, nous allons implémenter notre propre classifieur: pour une nouvelle image de chiffre numérisé, on prédit la classe dont le chiffre moyen est le plus proche.\n",
    "Pour cela on partage notre jeu de données en deux parties de tailles semblables:\n",
    "la première partie servira de données d'entraînement (`X_train` et `y_train`); la seconde partie servira de données de tests (`X_test` et `y_test`).\n",
    "\n",
    "**g)**\n",
    "Définir les variables: `X_train`, `y_train`, `X_test` et `y_test`."
   ]
  },
  {
   "cell_type": "markdown",
   "id": "62f2e9ae",
   "metadata": {},
   "source": [
    "**h)**\n",
    "Pour chaque chiffre de l'ensemble d'entraînement, calculer les centroïdes (c'est-à-dire les chiffres moyens) des classes de 0 à 9.\n",
    "On notera la variable contenant l'ensemble des moyennes `centroids_train`."
   ]
  },
  {
   "cell_type": "markdown",
   "id": "500c0e48",
   "metadata": {},
   "source": [
    "**i)**\n",
    "Écrire une fonction qui, donné un chiffre de l'ensemble de test (`X_test`), retourne le centroïde de `centroids_train` le plus proche dans la norme euclidienne."
   ]
  },
  {
   "cell_type": "markdown",
   "id": "b1b91168",
   "metadata": {},
   "source": [
    "**j)**\n",
    "Finalement, évaluer si le chiffre ainsi obtenu correspond au vrai chiffre en utilisant `y_test`\n",
    "et en déduire une estimation du pourcentage de bonnes prédictions sur l'ensemble de test."
   ]
  },
  {
   "cell_type": "markdown",
   "id": "e66bcd53",
   "metadata": {},
   "source": [
    "# Exercice 12.5: <font color=\"red\">!</font> Différentiation automatique"
   ]
  },
  {
   "cell_type": "markdown",
   "id": "5dca6fb5",
   "metadata": {},
   "source": [
    "Le but de cet exercice est d'aborder une des briques fondamentales de l'apprentissage automatique: la différentiation automatique.\n",
    "Il s'agit d'une technique permettant de calculer des dérivées ou gradients de fonctions Python de manière pratiquement transparente pour l'utilisateur.\n",
    "Donné une certaine fonction Python `f(x)`, le but de la différentiation automatique est qu'il soit presque aussi facile pour l'utilisateur d'évaluer la dérivée de `f` en un point `x=1` que de faire `f(1)`, et ce même si la fonction $f$ est compliquée.\n",
    "Il s'agit de la brique fondamentale permettant à l'apprentissage automatique d'apprendre des paramètres en optimisant des fonctions non-linéaires compliquées.\n",
    "\n",
    "L'idée de la différentiation automatique est d'utiliser la règle de dérivation des fonctions composées et la connaissance des dérivées des fonctions de bases. En effet, une fonction Python est «juste» une composition de fonctions (ou instructions) de bases.\n",
    "\n",
    "Par simplicité, on s'intéresse ici uniquement à la composition de fonctions sur $\\mathbb{R}$. Pour tout $i\\in\\{0,1,\\dots,n\\}$, soit $f_i:\\mathbb{R}\\to\\mathbb{R}$ une fonction élémentaire dont on connait la dérivée. On considère la composition des $i\\leq n$ premières fonctions:"
   ]
  },
  {
   "cell_type": "markdown",
   "id": "59dfa209",
   "metadata": {},
   "source": [
    "$$\n",
    "F_i = f_i \\circ f_{i-1} \\circ \\cdots \\circ f_1 \\circ f_0 \\,.\n",
    "$$"
   ]
  },
  {
   "cell_type": "markdown",
   "id": "c1f268aa",
   "metadata": {},
   "source": [
    "La dérivée est donnée par la règle de composition (ou règle de chaîne):"
   ]
  },
  {
   "cell_type": "markdown",
   "id": "dc6921e6",
   "metadata": {},
   "source": [
    "$$\n",
    "F_i^\\prime = (f_i \\circ F_{i-1})^\\prime = (f_i^\\prime \\circ F_{i-1}) \\cdot F_{i-1}^\\prime \\,.\n",
    "$$"
   ]
  },
  {
   "cell_type": "markdown",
   "id": "d77195c4",
   "metadata": {},
   "source": [
    "Cela donne une manière récursive de calculer $F_n^\\prime$ avec l'ancrage $F_0^\\prime = f_0^\\prime$.\n",
    "Pour calculer la valeur de $F_n(x)$ pour un $x$ donné, Pyhon va intrinsèquement calculer successivement  $F_0(x)$, puis $F_1(x)$, $F_2(x)$, jusqu'à $F_n(x)$.\n",
    "La différentiation automatique consiste à évaluer en même temps ou ultérieurement $F_0^\\prime(x)$, $F_1^\\prime(x)$ jusqu'à $F_n^\\prime(x)$.\n",
    "\n",
    "À noter que la différentiation automatique n'est pas une approximation numérique ni du calcul symbolique. En effet, la valeur de la dérivée est déterminée exactement (à la précision machine), ce qui n'est pas le cas avec une approximation numérique du type:"
   ]
  },
  {
   "cell_type": "markdown",
   "id": "4396095f",
   "metadata": {},
   "source": [
    "$$\n",
    "f^\\prime(x) \\approx \\frac{f(x+h)-f(x)}{h} \\,,\n",
    "$$"
   ]
  },
  {
   "cell_type": "markdown",
   "id": "e4981991",
   "metadata": {},
   "source": [
    "avec un certain $h>0$ petit.\n",
    "Ce n'est pas non plus du calcul symbolique, car il n'y a aucun symbole dans la différentiation automatique, seulement des nombres réels. La différentiation automatique calcule la valeur de la dérivée en un point donné, alors que la différentiation symbolique le fait pour un symbole quelconque.\n",
    "\n",
    "**a)**\n",
    "La première étape est de définir les dérivées des fonctions élémentaires. Pour cela, construire les tuples $\\tilde{f} = (f,f^\\prime)$ manuellement pour les fonctions élémentaires $\\sin$, $\\cos$, $\\operatorname{op}:x\\mapsto -x$, $\\operatorname{inv}:x\\mapsto x^{-1}$ et $\\operatorname{square}:x\\mapsto x^2$."
   ]
  },
  {
   "cell_type": "markdown",
   "id": "23344581",
   "metadata": {},
   "source": [
    "**b)**\n",
    "Une composition de fonctions $F_n = f_n \\circ f_{n-1} \\circ \\cdots \\circ f_1 \\circ f_0$, sera stockée en Python comme la liste de tuples $[\\tilde{f}_0, \\tilde{f}_1, \\dots \\tilde{f}_n]$.\n",
    "Définir ainsi en Python la composition correspondante à la fonction:"
   ]
  },
  {
   "cell_type": "markdown",
   "id": "bb67977e",
   "metadata": {},
   "source": [
    "$$\n",
    "F(x) = \\cos\\left(\\frac{1}{\\sin(-\\cos x^{2})^{2}}\\right).\n",
    "$$"
   ]
  },
  {
   "cell_type": "markdown",
   "id": "7678e609",
   "metadata": {},
   "source": [
    "**c)**\n",
    "Écrire une fonction `eval(liste, x)` qui donné une liste de tuples définissant une composition de fonctions $F_n$, retourne $F_n(x)$. Tester sur l'exemple précédent."
   ]
  },
  {
   "cell_type": "markdown",
   "id": "090ee6f2",
   "metadata": {},
   "source": [
    "**d)**\n",
    "Écrire une fonction `autodiff(liste, x)` qui donné une liste de tuple définissant une composition de fonctions $F_n$, retourne $F_n(x)$ et $F_n^\\prime(x)$. Tester à nouveau sur le même exemple."
   ]
  },
  {
   "cell_type": "markdown",
   "id": "dbefe7c0",
   "metadata": {},
   "source": [
    "L'approche précédente ne permet que la composition de fonctions d'une variable, ce qui est très limitant, la somme et la multiplication étant des fonctions de deux variables. L'idée est de pouvoir également considérer des fonctions plus compliquées, comme par exemple:"
   ]
  },
  {
   "cell_type": "markdown",
   "id": "320d2670",
   "metadata": {},
   "source": [
    "$$\n",
    "G(x) = \\frac{\\cos(x)}{\\sin(x) + \\cos(x)\\sin(x^2) } \\,.\n",
    "$$"
   ]
  },
  {
   "cell_type": "markdown",
   "id": "1caaf46b",
   "metadata": {},
   "source": [
    "**e)**\n",
    "Implémenter sous forme de tuple comme précédemment les fonctions somme $\\operatorname{add}:x,y \\mapsto x+y$ et multiplication $\\operatorname{mult}:x,y \\mapsto xy$."
   ]
  },
  {
   "cell_type": "markdown",
   "id": "a13ff69d",
   "metadata": {},
   "source": [
    "**f)**\n",
    "La fonction précédente $G$ ne peut plus être représentée en Python sous la forme d'une liste de composition, car elle a la structure d'un graphe:\n",
    "\n",
    "<center><img src=\"data:image/png;base64,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\" style=\"width:90%;max-width:400px;\"></center>\n",
    "\n",
    "On choisit de la stocker en Python sous forme de liste de liste, avec comme premier élément de chaque liste la fonction à appliquer, les arguments étant les éléments suivants. Pour l'example $G$ précédent:"
   ]
  },
  {
   "cell_type": "code",
   "execution_count": 76,
   "id": "ceab44ae",
   "metadata": {
    "collapsed": false
   },
   "outputs": [],
   "source": [
    "myG = [mult, [cos], [inv, [add, [sin], [mult, [cos], [sin, [square]]]]]]"
   ]
  },
  {
   "cell_type": "markdown",
   "id": "2132f819",
   "metadata": {},
   "source": [
    "Écrire la composition simple précédente $F$ sous cette nouvelle forme, ainsi que la fonction:"
   ]
  },
  {
   "cell_type": "markdown",
   "id": "d2283971",
   "metadata": {},
   "source": [
    "$$\n",
    "H(x) = \\frac{\\cos(x^{2})+\\sin x}{\\cos x+2\\sin(x^{-1})} \\,.\n",
    "$$"
   ]
  },
  {
   "cell_type": "markdown",
   "id": "c22e4013",
   "metadata": {},
   "source": [
    "**g)**\n",
    "Écrire une fonction `eval(liste,x)` permettant d'évaluer au point `x` une expression sous forme de liste de listes, décrite précédemment. Tester sur les fonctions $F$, $G$ et $H$."
   ]
  },
  {
   "cell_type": "markdown",
   "id": "88f68323",
   "metadata": {},
   "source": [
    "**h)**\n",
    "<font color=\"red\">!!</font> Écrire une fonction `autodiff(liste,x)` qui en plus de retourner l'évaluation de la fonction en `x` retourne également l'évaluation de sa dérivée en `x`."
   ]
  },
  {
   "cell_type": "markdown",
   "id": "3dfd52c0",
   "metadata": {},
   "source": [
    "**i)**\n",
    "<font color=\"red\">!!</font> L'implémentation précédente n'est pas très utilisable concrètement. En pratique, la différentiation automatique se code en surchargeant les opérations de bases, dans le but d'être relativement transparente pour l'utilisateur.\n",
    "En utilisant le paquet [JAX](https://jax.readthedocs.io/) ou [PyTorch](https://pytorch.org/), déterminer la dérivée de la fonction suivante par différentiation automatique en `x=0.4`:"
   ]
  },
  {
   "cell_type": "code",
   "execution_count": 88,
   "id": "106cfbfd",
   "metadata": {
    "collapsed": false
   },
   "outputs": [],
   "source": [
    "def f(x):\n",
    "    for i in range(50):\n",
    "        if x>0.5:\n",
    "            x = 3.7*x*(1-x)\n",
    "        else:\n",
    "            x = 3*x*(1-x)\n",
    "    return x"
   ]
  },
  {
   "cell_type": "markdown",
   "id": "4dc23352",
   "metadata": {},
   "source": [
    "Finalement, comparer avec la différentiation numérique.\n",
    "\n",
    "**Indication.**\n",
    "Pour JAX, voir la documentation sur la différentiation automatique [ici](https://jax.readthedocs.io/en/latest/notebooks/autodiff_cookbook.html) et, pour PyTorch, [ici](https://pytorch.org/tutorials/beginner/blitz/autograd_tutorial.html)."
   ]
  },
  {
   "cell_type": "markdown",
   "id": "b4bdcee3",
   "metadata": {},
   "source": [
    "# Exercice 12.6: <font color=\"red\">!</font> Réseau de neurones"
   ]
  },
  {
   "cell_type": "markdown",
   "id": "0a86f25b",
   "metadata": {},
   "source": [
    "Le but de cet exercice est d'introduire la notation de réseau de neurones pour retrouver une fonction réelle dont on ne connaît que son évaluation bruitée.\n",
    "Plus précisément, on considère la fonction $f:[0,1]\\to\\mathbb{R}$ définie par:"
   ]
  },
  {
   "cell_type": "markdown",
   "id": "028ef283",
   "metadata": {},
   "source": [
    "$$\n",
    "f(x) = 1 + \\sin(4\\cos x)^2 \\,,\n",
    "$$"
   ]
  },
  {
   "cell_type": "markdown",
   "id": "283d2a8c",
   "metadata": {},
   "source": [
    "et on considère les données générées par 500 évaluations bruitées de $f$:"
   ]
  },
  {
   "cell_type": "code",
   "execution_count": 94,
   "id": "b75b45b1",
   "metadata": {
    "collapsed": false
   },
   "outputs": [],
   "source": [
    "rng = np.random.default_rng(123456)\n",
    "f = lambda x: 0.1 + np.sin(4*np.cos(x))**2\n",
    "x = rng.random(500)\n",
    "y = f(x) + rng.normal(0,0.1,500)"
   ]
  },
  {
   "cell_type": "markdown",
   "id": "97297be9",
   "metadata": {},
   "source": [
    "Le but est d'oublier que les données ont étés générées de cette façon et de retrouver une fonction approchant $f$ uniquement à partir de `x` et `y`.\n",
    "Pour cela, un réseau de neurones à une couche sera utilisé. On parle d'apprentissage de la fonction à partir des données.\n",
    "Le principe est de construire la fonction apprise sous la forme:"
   ]
  },
  {
   "cell_type": "markdown",
   "id": "39ef6f7b",
   "metadata": {},
   "source": [
    "$$\n",
    "f_{\\boldsymbol{\\omega}}(x) = \\frac{1}{n}\\sum_{i=0}^{n-1} w_i \\sigma(a_i x+b_i) \\,,\n",
    "$$"
   ]
  },
  {
   "cell_type": "markdown",
   "id": "be58b9d2",
   "metadata": {},
   "source": [
    "où $\\boldsymbol{\\omega} = (\\boldsymbol{a},\\boldsymbol{b},\\boldsymbol{w}) \\in \\mathbb{R}^n \\times \\mathbb{R}^n \\times \\mathbb{R}^n$ sont des paramètres à déterminer et $\\sigma$ la fonction sigmoïde:"
   ]
  },
  {
   "cell_type": "markdown",
   "id": "e17e4354",
   "metadata": {},
   "source": [
    "$$\n",
    "\\sigma(x) = \\frac{1}{1+e^{-x}} \\,.\n",
    "$$"
   ]
  },
  {
   "cell_type": "markdown",
   "id": "22db5e97",
   "metadata": {},
   "source": [
    "Il s'agit d'un réseau de neurones à une couche avec $n$ neurones. Le principe est de sommer $n$ fonctions non-linéaires (les sigmoïdes) avec des poids d'entrée $\\boldsymbol{a}=(a_i)_{i=0}^{n-1}$, des biais $\\boldsymbol{b}=(b_i)_{i=0}^{n-1}$ et des poids de sortie $\\boldsymbol{w}=(w_i)_{i=0}^{n-1}$.\n",
    "Le choix des paramètres se fait de manière à minimiser la fonction de coût suivante:"
   ]
  },
  {
   "cell_type": "markdown",
   "id": "d07e8b8f",
   "metadata": {},
   "source": [
    "$$\n",
    "J(\\boldsymbol{\\omega}) = \\sum_{k=0}^{499} \\bigl(f_{\\boldsymbol{\\omega}}(x_k) - y_k\\bigr)^2 \\,.\n",
    "$$"
   ]
  },
  {
   "cell_type": "markdown",
   "id": "cb108224",
   "metadata": {},
   "source": [
    "La stratégie pour minimiser $J$ sur les paramètres $\\boldsymbol{\\omega}$ est d'effectuer une descente de gradient en commençant avec des valeurs aléatoires des paramètres $\\boldsymbol{\\omega}_0$ puis en définissant successivement:"
   ]
  },
  {
   "cell_type": "markdown",
   "id": "9ef4b494",
   "metadata": {},
   "source": [
    "$$\n",
    "\\boldsymbol{\\omega}_{i+1} = \\boldsymbol{\\omega}_{i} - \\eta J^\\prime(\\boldsymbol{\\omega}_i) \\,,\n",
    "$$"
   ]
  },
  {
   "cell_type": "markdown",
   "id": "10fe3e5a",
   "metadata": {},
   "source": [
    "où $J^\\prime(\\boldsymbol{\\omega})$ désigne le gradient de $J(\\boldsymbol{\\omega})$ par rapport aux paramètres, et $\\eta\\in(0,1]$ est un paramètre appelé taux d'apprentissage.\n",
    "L'idée de l'algorithme de descente de gradient est de faire bouger les paramètres dans la direction de plus fort gradient afin de minimiser $J(\\boldsymbol{\\omega})$. On parle d'apprentissage des paramètres.\n",
    "\n",
    "**a)**\n",
    "Représenter graphiquement les données `x` et `y` ainsi que la fonction $f$."
   ]
  },
  {
   "cell_type": "markdown",
   "id": "3f9dbc57",
   "metadata": {},
   "source": [
    "**b)**\n",
    "Déterminer la valeur de la fonction de coût $J$ pour la fonction $f$:"
   ]
  },
  {
   "cell_type": "markdown",
   "id": "dc42616b",
   "metadata": {},
   "source": [
    "$$\n",
    "J_f = \\sum_{k=0}^{499} \\bigl(f(x_k) - y_k\\bigr)^2 \\,.\n",
    "$$"
   ]
  },
  {
   "cell_type": "markdown",
   "id": "4901f306",
   "metadata": {},
   "source": [
    "**c)**\n",
    "Définir la fonction sigmoïde $\\sigma$ en Python ainsi que sa dérivée $\\sigma^\\prime$ et représenter la sigmoïde graphiquement."
   ]
  },
  {
   "cell_type": "markdown",
   "id": "18ba008d",
   "metadata": {},
   "source": [
    "**d)**\n",
    "Implémenter en Python une fonction `F(x,omega)` correspondante à la fonction $f_{\\boldsymbol{\\omega}}(x)$. Faire en sorte que la fonction `F(x,omega)` soit vectorisée, c'est-à-dire si $x=(x_0,x_1,\\dots x_{k-1})\\in\\mathbb{R}^k$ alors la fonction renvoie $(f_{\\boldsymbol{\\omega}}(x_0), f_{\\boldsymbol{\\omega}}(x_1), \\dots, f_{\\boldsymbol{\\omega}}(x_{k-1}))$."
   ]
  },
  {
   "cell_type": "markdown",
   "id": "f47af544",
   "metadata": {},
   "source": [
    "**e)**\n",
    "Calculer à la main le gradient de $f_{\\boldsymbol{\\omega}}(x)$ par rapport à $\\boldsymbol{\\omega}$ (et non pas par rapport à $x$) et implémenter ce gradient en Python, en prenant soin qu'il soit également vectorisé."
   ]
  },
  {
   "cell_type": "markdown",
   "id": "b064f7e8",
   "metadata": {},
   "source": [
    "**f)**\n",
    "Implémenter en Python $J(\\boldsymbol{\\omega})$ ainsi que son gradient $J^\\prime(\\boldsymbol{\\omega})$."
   ]
  },
  {
   "cell_type": "markdown",
   "id": "89f04ed3",
   "metadata": {},
   "source": [
    "**g)**\n",
    "Avec le taux d'apprentissage $\\eta=0.01$ et quatre neurones, apprendre les paramètres $\\boldsymbol{\\omega}\\in\\mathbb{R}^{12}$ qui tendent à minimiser $J$.\n",
    "Comparer la valeur de la fonction coût $J(\\boldsymbol{\\omega})$ de la fonction $f_{\\boldsymbol{\\omega}}$ apprise avec la valeur de la fonction coût $J_f$ de la fonction $f$.\n",
    "Représenter graphiquement la fonction $f_{\\boldsymbol{\\omega}}$ en fonction de $x$ pour ces paramètres et comparer avec la fonction $f$."
   ]
  }
 ],
 "metadata": {
  "kernelspec": {
   "display_name": "Python 3",
   "language": "python",
   "name": "python3"
  },
  "language_info": {
   "codemirror_mode": {
    "name": "ipython",
    "version": 3
   },
   "file_extension": ".py",
   "mimetype": "text/x-python",
   "name": "python",
   "nbconvert_exporter": "python",
   "pygments_lexer": "ipython3",
   "version": "3.8.5"
  }
 },
 "nbformat": 4,
 "nbformat_minor": 5
}