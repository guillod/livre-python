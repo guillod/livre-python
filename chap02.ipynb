{
 "cells": [
  {
   "cell_type": "markdown",
   "metadata": {},
   "source": [
    "<div style=\"width:100%\"><a href=\"https://www.dunod.com/sciences-techniques/programmation-python-par-pratique-exercices-et-problemes-corriges\"><img src=\"https://python.guillod.org/livre/banner.png\"/></a></div>\n",
    "\n",
    "Ce fichier reflète les énoncés des exercices d'un chapitre du livre *[Programmation Python par la pratique](https://www.dunod.com/sciences-techniques/programmation-python-par-pratique-exercices-et-problemes-corriges)*. Tous les énoncés peuvent être téléchargés au format [Jupyter Notebook](https://python.guillod.org/livre/) ou exécutés directement en ligne sur [GESIS](https://notebooks.gesis.org/binder/v2/gh/guillod/livre-python/master?urlpath=lab). Les corrigés sont disponibles dans le livre en version papier (ISBN [9782100815142](https://www.dunod.com/sciences-techniques/programmation-python-par-pratique-exercices-et-problemes-corriges)) ou numérique (ISBN [9782100819089](https://www.dunod.com/sciences-techniques/programmation-python-par-pratique-exercices-et-problemes-corriges)) publiés chez Dunod. Ce fichier reflète les exercices tels que publiés dans cet ouvrage et diffère quelque peu des exercices présentés à la page [python.guillod.org](https://python.guillod.org/)."
   ]
  },
  {
   "cell_type": "markdown",
   "metadata": {},
   "source": [
    "# 2 Structures de données"
   ]
  },
  {
   "cell_type": "markdown",
   "metadata": {},
   "source": [
    "<div id=\"ch:structures\"></div>\n",
    "\n",
    "Pour représenter des structures de données, Python propose quatre types de base: les listes (type `list`), les tuples (type `tuple`), les ensembles (type `set`) et les dictionnaires (type `dict`). Le but  de ce chapitre est de montrer les différences fondamentales entre ces structures de données et d'expliquer à quoi elles sont le plus adaptées. La documentation détaillée sur les structures de données est disponible [ici](https://docs.python.org/fr/3/tutorial/datastructures.html).\n",
    "\n",
    "**Concepts abordés:**\n",
    "\n",
    "* structures de données (liste, tuple, ensemble, dictionnaire)\n",
    "\n",
    "* types mutable et immutable\n",
    "\n",
    "* type hashable\n",
    "\n",
    "* compréhensions de liste, ensemble et dictionnaire\n",
    "\n",
    "* suites numériques\n",
    "\n"
   ]
  },
  {
   "cell_type": "markdown",
   "metadata": {},
   "source": [
    "# Exercice 2.1: Listes"
   ]
  },
  {
   "cell_type": "markdown",
   "metadata": {},
   "source": [
    "<div id=\"exer:structures-listes\"></div>\n",
    "\n",
    "Une liste est une structure permettant de stocker des éléments hétérogènes:"
   ]
  },
  {
   "cell_type": "code",
   "execution_count": 1,
   "metadata": {
    "collapsed": false
   },
   "outputs": [],
   "source": [
    "list0 = [0, 5.4, \"chaîne\", True]"
   ]
  },
  {
   "cell_type": "markdown",
   "metadata": {},
   "source": [
    "Les listes sont mutables, c'est-à-dire qu'il est possible d'y modifier un élément, d'en rajouter un ou d'en supprimer un sans avoir à redéfinir toute la liste."
   ]
  },
  {
   "cell_type": "code",
   "execution_count": 2,
   "metadata": {
    "collapsed": false
   },
   "outputs": [],
   "source": [
    "list0[3] = False # remplace True par False\n",
    "list0.append(\"nouveau\") # ajoute la chaîne de caractères \"nouveau\" à la liste\n",
    "list0.insert(2, 34) # insère 34 à la place 2\n",
    "list0.remove(0) # enlève 0"
   ]
  },
  {
   "cell_type": "markdown",
   "metadata": {},
   "source": [
    "En particulier, il faut faire attention en copiant une liste. Si l'on exécute le code suivant:"
   ]
  },
  {
   "cell_type": "code",
   "execution_count": 3,
   "metadata": {
    "collapsed": false
   },
   "outputs": [],
   "source": [
    "list1 = list0\n",
    "list1[2] = \"change\"\n",
    "list0"
   ]
  },
  {
   "cell_type": "markdown",
   "metadata": {},
   "source": [
    "alors `list0` est aussi modifié et est égal à `list1`. Pour créer une vraie copie, il faut utiliser le code suivant:"
   ]
  },
  {
   "cell_type": "code",
   "execution_count": 4,
   "metadata": {
    "collapsed": false
   },
   "outputs": [],
   "source": [
    "list2 = list0.copy()\n",
    "list2[2] = \"rechange\"\n",
    "list0"
   ]
  },
  {
   "cell_type": "markdown",
   "metadata": {},
   "source": [
    "qui ne modifie pas `list0`.\n",
    "À noter qu'il est possible de modifier les éléments d'une liste à l'intérieur d'une fonction:"
   ]
  },
  {
   "cell_type": "code",
   "execution_count": 5,
   "metadata": {
    "collapsed": false
   },
   "outputs": [],
   "source": [
    "def f(l):\n",
    "    l[0] = 0\n",
    "f(list0)"
   ]
  },
  {
   "cell_type": "markdown",
   "metadata": {},
   "source": [
    "Enfin il est possible de créer des listes à l'aide de la compréhension de listes:"
   ]
  },
  {
   "cell_type": "code",
   "execution_count": 6,
   "metadata": {
    "collapsed": false
   },
   "outputs": [],
   "source": [
    "list1 = [2*i+1 for i in range(10)]"
   ]
  },
  {
   "cell_type": "markdown",
   "metadata": {},
   "source": [
    "**a)**\n",
    "Chercher dans la documentation la syntaxe pour concaténer deux listes.\n",
    "\n",
    "**Indication.**\n",
    "Voir la documentation [ici](https://docs.python.org/fr/3/library/stdtypes.html#sequence-types-list-tuple-range).\n",
    "\n"
   ]
  },
  {
   "cell_type": "markdown",
   "metadata": {},
   "source": [
    "\n",
    "**b)**\n",
    "Chercher dans la documentation la syntaxe pour extraire une tranche d'une liste, c'est-à-dire: si `a` est par exemple une liste de longueur 10, retourner les éléments de 6 à 9.\n",
    "\n",
    "**Indication.**\n",
    "Voir la documentation [ici](https://docs.python.org/fr/3/library/stdtypes.html#sequence-types-list-tuple-range).\n",
    "\n"
   ]
  },
  {
   "cell_type": "markdown",
   "metadata": {},
   "source": [
    "\n",
    "**c)**\n",
    "Chercher dans la documentation la syntaxe pour retourner la longueur d'une liste.\n",
    "\n"
   ]
  },
  {
   "cell_type": "markdown",
   "metadata": {},
   "source": [
    "\n",
    "**d)**\n",
    "Écrire une fonction `fibonacci(N)` qui retourne la liste des $N\\geq2$ premiers termes de la suite de Fibonacci définie par $u_{n+2} = u_{n+1}+u_n$ avec $u_0=0$ et $u_1=1$.\n",
    "\n"
   ]
  },
  {
   "cell_type": "markdown",
   "metadata": {},
   "source": [
    "\n",
    "**e)**\n",
    "Écrire une fonction `pascal(N)` qui retourne la $N$-ième ligne du triangle de Pascal:\n",
    "\n",
    "<center><img src=\"data:image/png;base64,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\" style=\"width:90%;max-width:150px;\"></center>\n",
    "\n"
   ]
  },
  {
   "cell_type": "markdown",
   "metadata": {},
   "source": [
    "\n",
    "**f)**\n",
    "Soit les suites $(u_n)_{n\\in\\mathbb{N}}$ et $(v_n)_{n\\in\\mathbb{N}}$ définies par $u_0=1$, $v_0=1$, et"
   ]
  },
  {
   "cell_type": "markdown",
   "metadata": {},
   "source": [
    "$$\n",
    "\\begin{align*}\n",
    "u_{n+1} &= u_n + v_n \\,, & v_{n+1} &= 2u _n - v_n \\,,\n",
    "\\end{align*}\n",
    "$$"
   ]
  },
  {
   "cell_type": "markdown",
   "metadata": {},
   "source": [
    "pour $n\\geq0$. Calculer $u_{100}$ et $v_{100}$.\n",
    "\n",
    "**Réponse.**\n",
    "$u_{100}=v_{100}=717897987691852588770249$.\n",
    "\n"
   ]
  },
  {
   "cell_type": "markdown",
   "metadata": {},
   "source": [
    "\n",
    "**g)**\n",
    "Écrire une fonction `vk(n0,K)`, qui pour deux entiers $n_0$ et $K\\geq1$ calcule la suite des valeurs $v_k$ définies par $v_0 = n_0$ et"
   ]
  },
  {
   "cell_type": "markdown",
   "metadata": {},
   "source": [
    "$$\n",
    "v_{k+1}=\\begin{cases}\n",
    "3v_{k}+1 & \\text{si $v_{k}$ est impair},\\\\ \n",
    "\\frac{v_{k}}{2} & \\text{si $v_{k}$ est pair},\n",
    "\\end{cases}\n",
    "$$"
   ]
  },
  {
   "cell_type": "markdown",
   "metadata": {},
   "source": [
    "pour $0 \\leq k < K$. Pour $K = 1 000$ et diverses valeurs de $n_0 \\in \\{10, 100, 1 000, 10 000\\}$, afficher les cinq dernières\n",
    "valeurs calculées, c'est-à-dire $(v_{K-4},v_{K-3},v_{K-2},v_{K-1},v_K)$.\n",
    "\n",
    "**Réponse.**\n",
    "Les assertions suivantes sont vraies:"
   ]
  },
  {
   "cell_type": "code",
   "execution_count": 13,
   "metadata": {
    "collapsed": false
   },
   "outputs": [],
   "source": [
    "vk(10,1000) == [1, 4, 2, 1, 4]\n",
    "vk(100,1000) == [2, 1, 4, 2, 1]\n",
    "vk(1000,1000) == [1, 4, 2, 1, 4]\n",
    "vk(10000,1000) == [4, 2, 1, 4, 2]"
   ]
  },
  {
   "cell_type": "markdown",
   "metadata": {},
   "source": [
    "\n",
    "<!-- --- end exercise --- -->\n",
    "\n",
    "\n",
    "\n",
    "\n",
    "<!-- --- begin exercise --- -->"
   ]
  },
  {
   "cell_type": "markdown",
   "metadata": {},
   "source": [
    "# Exercice 2.2: Tuples"
   ]
  },
  {
   "cell_type": "markdown",
   "metadata": {},
   "source": [
    "<div id=\"exer:structures-tuples\"></div>\n",
    "\n",
    "Les tuples permettent tout comme les listes de stocker des éléments hétérogènes:"
   ]
  },
  {
   "cell_type": "code",
   "execution_count": 15,
   "metadata": {
    "collapsed": false
   },
   "outputs": [],
   "source": [
    "tuple0 = (0, 5.4, \"chaîne\", True)"
   ]
  },
  {
   "cell_type": "markdown",
   "metadata": {},
   "source": [
    "Mais au contraire des listes, les tuples ne sont pas mutables. Il n'est pas possible d'y modifier un élément, d'en rajouter un ou d'en supprimer un sans redéfinir tout le tuple. L'avantage d'un tuple sur une liste est qu'il tuple est hashable, c'est-à-dire qu'il peut être utilisé comme clef dans un dictionnaire.\n",
    "\n",
    "Enfin il est possible d'affecter des variables à l'intérieur d'un tuple, par exemple:"
   ]
  },
  {
   "cell_type": "code",
   "execution_count": 16,
   "metadata": {
    "collapsed": false
   },
   "outputs": [],
   "source": [
    "(a,b) = (1,9)"
   ]
  },
  {
   "cell_type": "markdown",
   "metadata": {},
   "source": [
    "Cela est en particulier très utile pour échanger deux variables sans avoir à utiliser une variable supplémentaire:"
   ]
  },
  {
   "cell_type": "code",
   "execution_count": 17,
   "metadata": {
    "collapsed": false
   },
   "outputs": [],
   "source": [
    "(a,b) = (b,a)"
   ]
  },
  {
   "cell_type": "markdown",
   "metadata": {},
   "source": [
    "**a)**\n",
    "Vérifier qu'un tuple est bien immutable.\n",
    "\n"
   ]
  },
  {
   "cell_type": "markdown",
   "metadata": {},
   "source": [
    "\n",
    "**b)**\n",
    "Définir une fonction `mdlast(lst,val)` ayant pour argument une liste de tuples d'entiers `lst` et un entier `val` et retourner la liste de tuples avec le dernier élément de chaque tuple remplacé par `val`. Par exemple si `lst = [(10, 20), (30, 40, 50, 60), (70, 80, 90)]` alors `mdlast(lst,100)` doit retourner `[(10, 100), (30, 40, 50, 100), (70, 80, 100)]`.\n",
    "\n"
   ]
  },
  {
   "cell_type": "markdown",
   "metadata": {},
   "source": [
    "\n",
    "**c)**\n",
    "Comment convertir un tuple en liste et réciproquement ?\n",
    "\n"
   ]
  },
  {
   "cell_type": "markdown",
   "metadata": {},
   "source": [
    "# Exercice 2.3: Ensembles"
   ]
  },
  {
   "cell_type": "markdown",
   "metadata": {},
   "source": [
    "<div id=\"exer:structures-ensembles\"></div>\n",
    "\n",
    "Les ensembles permettent de stocker des éléments hétérogènes au sens mathématique de la théorie des ensembles:"
   ]
  },
  {
   "cell_type": "code",
   "execution_count": 21,
   "metadata": {
    "collapsed": false
   },
   "outputs": [],
   "source": [
    "set0 = {0, 5.4, \"chaîne\", True}"
   ]
  },
  {
   "cell_type": "markdown",
   "metadata": {},
   "source": [
    "Il est possible de tester si un élément appartient à un ensemble:"
   ]
  },
  {
   "cell_type": "code",
   "execution_count": 22,
   "metadata": {
    "collapsed": false
   },
   "outputs": [],
   "source": [
    "if \"chaîne\" in set0:\n",
    "    print(\"dedans\")"
   ]
  },
  {
   "cell_type": "markdown",
   "metadata": {},
   "source": [
    "Les ensembles sont mutables, il est donc possible de rajouter ou retirer un élément d'un ensemble:"
   ]
  },
  {
   "cell_type": "code",
   "execution_count": 23,
   "metadata": {
    "collapsed": false
   },
   "outputs": [],
   "source": [
    "set0.add(18) # ajoute 18 à l'ensemble\n",
    "set0.add(0) # ajoute 0 à l'ensemble (ne fait rien car 0 est déjà dedans)\n",
    "set0.remove(\"chaîne\") # retire \"chaîne de l'ensemble"
   ]
  },
  {
   "cell_type": "markdown",
   "metadata": {},
   "source": [
    "En revanche les ensembles ne peuvent contenir que des éléments hashables, c'est-à-dire immutables. En particulier un ensemble ne peut pas contenir un autre ensemble:"
   ]
  },
  {
   "cell_type": "code",
   "execution_count": 24,
   "metadata": {
    "collapsed": false
   },
   "outputs": [],
   "source": [
    "set1 = {{1,2},{3},{4}}\n",
    "TypeError: unhashable type: 'set'"
   ]
  },
  {
   "cell_type": "markdown",
   "metadata": {},
   "source": [
    "À noter qu'il existe également en Python des ensembles immutables `frozenset`:"
   ]
  },
  {
   "cell_type": "code",
   "execution_count": 25,
   "metadata": {
    "collapsed": false
   },
   "outputs": [],
   "source": [
    "frozenset0 = frozenset([0, 5.4, \"chaîne\", True])"
   ]
  },
  {
   "cell_type": "markdown",
   "metadata": {},
   "source": [
    "Une chaîne de caractères peut être transformée en ensemble:"
   ]
  },
  {
   "cell_type": "code",
   "execution_count": 26,
   "metadata": {
    "collapsed": false
   },
   "outputs": [],
   "source": [
    "set1 = set('abracadabra')"
   ]
  },
  {
   "cell_type": "markdown",
   "metadata": {},
   "source": [
    "Comme pour les listes, il est possible de faire des compréhensions d'ensembles:"
   ]
  },
  {
   "cell_type": "code",
   "execution_count": 27,
   "metadata": {
    "collapsed": false
   },
   "outputs": [],
   "source": [
    "set2 = {x for x in 'abracadabra' if x not in 'abc'}"
   ]
  },
  {
   "cell_type": "markdown",
   "metadata": {},
   "source": [
    "Dans cet exemple, les chaînes de caractères sont automatiquement transformées en ensemble.\n",
    "À noter que l'ensemble vide est défini par `set()`.\n",
    "\n",
    "**a)**\n",
    "Définir une fonction `divisible(n)` qui retourne l'ensemble des nombres entiers divisibles par `n` inférieurs ou égaux à 100.\n",
    "\n"
   ]
  },
  {
   "cell_type": "markdown",
   "metadata": {},
   "source": [
    "\n",
    "**b)**\n",
    "Chercher dans la documentation comment faire l'intersection, l'union et la différence de deux ensembles. Déterminer les nombres inférieurs ou égaux à 100 qui sont non divisibles par 2 mais divisibles par 3 et 5.\n",
    "\n",
    "**Indication.**\n",
    "Voir la documentation de `set` [ici](https://docs.python.org/fr/3/library/stdtypes.html#set).\n",
    "\n"
   ]
  },
  {
   "cell_type": "markdown",
   "metadata": {},
   "source": [
    "# Exercice 2.4: Dictionnaires"
   ]
  },
  {
   "cell_type": "markdown",
   "metadata": {},
   "source": [
    "<div id=\"exer:structures-dictionnaires\"></div>\n",
    "\n",
    "Les dictionnaires sont une structure permettant de stocker des éléments hétérogènes indexés par des clefs (elles aussi hétérogènes):"
   ]
  },
  {
   "cell_type": "code",
   "execution_count": 31,
   "metadata": {
    "collapsed": false
   },
   "outputs": [],
   "source": [
    "dict0 = {\"pommes\": 0, \"poires\": 4, 12: 2}"
   ]
  },
  {
   "cell_type": "markdown",
   "metadata": {},
   "source": [
    "Les éléments d'un dictionnaire sont accessibles par les clefs:"
   ]
  },
  {
   "cell_type": "code",
   "execution_count": 32,
   "metadata": {
    "collapsed": false
   },
   "outputs": [],
   "source": [
    "dict0[\"pommes\"]\n",
    "dict0[12]"
   ]
  },
  {
   "cell_type": "markdown",
   "metadata": {},
   "source": [
    "Un dictionnaire peut être vu comme un tableau associatif associant à chaque clef une valeur. La liste des clefs et celle des valeurs sont accessibles respectivement avec `dict0.keys()` et `dict0.values()`.\n",
    "Les dictionnaires sont mutables, il est donc possible de modifier une association clef-valeur et d'en rajouter ou supprimer une:"
   ]
  },
  {
   "cell_type": "code",
   "execution_count": 33,
   "metadata": {
    "collapsed": false
   },
   "outputs": [],
   "source": [
    "dict0[\"pommes\"] = 3 # modifie la valeur associée à pommes\n",
    "dict0[\"oranges\"] = \"beaucoup\" # rajoute orange comme clef avec la valeur \"beaucoup\"\n",
    "del dict0[\"poires\"] # supprime le couple clef-valeur associé à poires\n",
    "dict0.pop(\"pommes\") # supprime le couple clef-valeur associé à pommes"
   ]
  },
  {
   "cell_type": "markdown",
   "metadata": {},
   "source": [
    "Bien qu'un dictionnaire soit mutable, les clefs qui le composent doivent être des objets hashables, c'est-à-dire immutables. Ainsi une liste ou un ensemble ne peuvent pas servir de clefs dans un dictionnaire:"
   ]
  },
  {
   "cell_type": "code",
   "execution_count": 34,
   "metadata": {
    "collapsed": false
   },
   "outputs": [],
   "source": [
    "dict0[list0] = \"test\"\n",
    "TypeError: unhashable type: 'list'\n",
    "dict0[set0] = \"retest\"\n",
    "TypeError: unhashable type: 'set'"
   ]
  },
  {
   "cell_type": "markdown",
   "metadata": {},
   "source": [
    "En revanche il est possible d'avoir un tuple ou un frozenset comme clef:"
   ]
  },
  {
   "cell_type": "code",
   "execution_count": 35,
   "metadata": {
    "collapsed": false
   },
   "outputs": [],
   "source": [
    "dict0[tuple0] = \"test\"\n",
    "dict0[frozenset0] = \"rest\""
   ]
  },
  {
   "cell_type": "markdown",
   "metadata": {},
   "source": [
    "d'où l'intérêt des frozensets.\n",
    "Comme pour les listes et les ensembles, il est possible de faire des compréhensions de dictionnaires:"
   ]
  },
  {
   "cell_type": "code",
   "execution_count": 36,
   "metadata": {
    "collapsed": false
   },
   "outputs": [],
   "source": [
    "dict1 = {x: x**2 for x in range(5)}"
   ]
  },
  {
   "cell_type": "markdown",
   "metadata": {},
   "source": [
    "Finalement une chose intéressante avec les dictionnaires est l'unpaking illustré par l'exemple suivant:"
   ]
  },
  {
   "cell_type": "code",
   "execution_count": 37,
   "metadata": {
    "collapsed": false
   },
   "outputs": [],
   "source": [
    "def add(a=0, b=0):\n",
    "    return a + b\n",
    "d = {'a': 2, 'b': 3}\n",
    "add(**d)"
   ]
  },
  {
   "cell_type": "markdown",
   "metadata": {},
   "source": [
    "**a)**\n",
    "Comment définir un dictionnaire vide ?\n",
    "\n",
    "**b)**\n",
    "Comment concaténer plusieurs dictionnaires entre eux ?\n",
    "\n"
   ]
  },
  {
   "cell_type": "markdown",
   "metadata": {},
   "source": [
    "\n",
    "**c)**\n",
    "On considère une liste de mots:"
   ]
  },
  {
   "cell_type": "code",
   "execution_count": 40,
   "metadata": {
    "collapsed": false
   },
   "outputs": [],
   "source": [
    "mots = ['Abricot', 'Airelle', 'Ananas', 'Banane', 'Cassis', 'Cerise', 'Citron', 'Clémentine', 'Coing', 'Datte', 'Fraise', 'Framboise', 'Grenade', 'Groseille', 'Kaki', 'Kiwi', 'Litchi', 'Mandarine', 'Mangue', 'Melon', 'Mirabelle', 'Nectarine', 'Orange', 'Pamplemousse', 'Papaye', 'Pêche', 'Poire', 'Pomme', 'Prune', 'Raisin']"
   ]
  },
  {
   "cell_type": "markdown",
   "metadata": {},
   "source": [
    "Écrire une fonction `position(mots, x, n)` qui retourne la liste des mots ayant le caractère `x` comme `n`-ième lettre.\n",
    "\n",
    "**Réponse.**\n",
    "Par exemple `position(mots,'e',4)` doit retourner la liste:"
   ]
  },
  {
   "cell_type": "code",
   "execution_count": 41,
   "metadata": {
    "collapsed": false
   },
   "outputs": [],
   "source": [
    "['Clémentine', 'Datte', 'Groseille', 'Pêche', 'Poire', 'Pomme', 'Prune']"
   ]
  },
  {
   "cell_type": "markdown",
   "metadata": {},
   "source": [
    "\n",
    "**d)**\n",
    "En imaginant que la liste des mots soit très longue, alors à chaque évaluation de la fonction `position` l'ensemble des mots est parcouru, ce qui prend pas mal de temps. Pour améliorer cela, construire un dictionnaire `mots_dict` ayant pour clefs les tuples `(x,n)` et comme valeurs la liste des mots ayant le caractère `x` comme `n`-ième lettre, c'est-à-dire tel que `mots_dict[x,n]` retourne la même chose que `position(mots, x , n)` à l'ordre près. Ainsi la liste `mots` n'est parcourue qu'une seule fois lors de la construction du dictionnaire et ensuite l'évaluation du dictionnaire est extrêmement rapide pour n'importe quelle requête.\n",
    "\n"
   ]
  }
 ],
 "metadata": {
  "kernelspec": {
   "display_name": "Python 3",
   "language": "python",
   "name": "python3"
  },
  "language_info": {
   "codemirror_mode": {
    "name": "ipython",
    "version": 3
   },
   "file_extension": ".py",
   "mimetype": "text/x-python",
   "name": "python",
   "nbconvert_exporter": "python",
   "pygments_lexer": "ipython3",
   "version": "3.8.5"
  }
 },
 "nbformat": 4,
 "nbformat_minor": 4
}