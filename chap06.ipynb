{
 "cells": [
  {
   "cell_type": "markdown",
   "metadata": {},
   "source": [
    "<div style=\"width:100%\"><a href=\"https://www.dunod.com/sciences-techniques/programmation-python-par-pratique-problemes-et-exercices-corriges\"><img src=\"https://python.guillod.org/livre/banner.png\"/></a></div>\n",
    "\n",
    "Ce fichier reflète les énoncés des exercices d'un chapitre du livre *[Programmation Python par la pratique](https://www.dunod.com/sciences-techniques/programmation-python-par-pratique-problemes-et-exercices-corriges)*. Tous les énoncés peuvent être téléchargés au format [Jupyter Notebook](https://python.guillod.org/livre/) ou exécutés directement en ligne sur [GESIS](https://notebooks.gesis.org/binder/v2/gh/guillod/livre-python/v1errata). Les corrigés sont disponibles dans le livre en version papier (ISBN [9782100815142](https://www.dunod.com/sciences-techniques/programmation-python-par-pratique-problemes-et-exercices-corriges)) ou numérique (ISBN [9782100819089](https://www.dunod.com/sciences-techniques/programmation-python-par-pratique-problemes-et-exercices-corriges)) publiés chez Dunod. Ce fichier reflète les exercices tels que publiés dans cet ouvrage et diffère quelque peu des exercices présentés à la page [python.guillod.org](https://python.guillod.org/)."
   ]
  },
  {
   "cell_type": "markdown",
   "metadata": {},
   "source": [
    "# 6 Algèbre"
   ]
  },
  {
   "cell_type": "markdown",
   "metadata": {},
   "source": [
    "<div id=\"ch:algebre\"></div>\n",
    "\n",
    "Tout d'abord une méthode de résolution de système linéaire par un algorithme direct est étudiée, puis une méthode itérative sera utilisée pour déterminer le vecteur propre associé à la plus grande valeur propre d'une matrice. Enfin les groupes générés par un ensemble de permutations seront étudiés.\n",
    "\n",
    "**Concepts abordés:**\n",
    "\n",
    "* méthode de résolution directe (décomposition LU)\n",
    "\n",
    "* algorithme *in place*\n",
    "\n",
    "* méthode itérative (puissance itérée)\n",
    "\n",
    "* groupes de permutations\n",
    "\n",
    "* orbite et stabilisateur\n",
    "\n"
   ]
  },
  {
   "cell_type": "markdown",
   "metadata": {},
   "source": [
    "# Exercice 6.1: Décomposition LU"
   ]
  },
  {
   "cell_type": "markdown",
   "metadata": {},
   "source": [
    "<div id=\"exer:algebre-LU\"></div>\n",
    "\n",
    "La décomposition LU consiste à décomposer une matrice $A$ de taille $n \\times n$ sous la forme $A=LU$ où $L$ est une matrice triangulaire inférieure avec des 1 sur la diagonale et $U$ une matrice triangulaire supérieure. Une fois la décomposition $A=LU$ d'une matrice connue, il est alors très facile de résoudre le problème linéaire $A\\boldsymbol{x} = \\boldsymbol{b}$ en résolvant d'abord $L\\boldsymbol{y} = \\boldsymbol{b}$ puis $U\\boldsymbol{x} = \\boldsymbol{y}$. L'avantage de la décomposition LU sur l'algorithme de Gauss, par exemple, est qu'une fois la décomposition LU connue, il est possible de résoudre le système linéaire rapidement avec des seconds membres différents.\n",
    "\n",
    "Vu que $l_{ik}=0$ si $k>i$, nous avons:"
   ]
  },
  {
   "cell_type": "markdown",
   "metadata": {},
   "source": [
    "$$\n",
    "a_{ij} = \\sum_{k=1}^n l_{ik}u_{kj} = l_{ii}u_{ij} + \\sum_{k=1}^{i-1} l_{ik}u_{kj} \\,,\n",
    "$$"
   ]
  },
  {
   "cell_type": "markdown",
   "metadata": {},
   "source": [
    "et donc comme $l_{ii}=1$:"
   ]
  },
  {
   "cell_type": "markdown",
   "metadata": {},
   "source": [
    "$$\n",
    "u_{ij} = a_{ij} - \\sum_{k=1}^{i-1} l_{ik}u_{kj} \\,.\n",
    "$$"
   ]
  },
  {
   "cell_type": "markdown",
   "metadata": {},
   "source": [
    "D'un autre côté, vu que $u_{kj}=0$ si $k>j$, alors:"
   ]
  },
  {
   "cell_type": "markdown",
   "metadata": {},
   "source": [
    "$$\n",
    "a_{ij} = \\sum_{k=1}^n l_{ik}u_{kj} = l_{ij}u_{jj} + \\sum_{k=1}^{j-1} l_{ik}u_{kj} \\,,\n",
    "$$"
   ]
  },
  {
   "cell_type": "markdown",
   "metadata": {},
   "source": [
    "et donc si $u_{jj}\\neq0$:"
   ]
  },
  {
   "cell_type": "markdown",
   "metadata": {},
   "source": [
    "$$\n",
    "l_{ij} = \\frac{1}{u_{jj}} \\left( a_{ij} - \\sum_{k=1}^{j-1} l_{ik}u_{kj} \\right) \\,.\n",
    "$$"
   ]
  },
  {
   "cell_type": "markdown",
   "metadata": {},
   "source": [
    "Ainsi, si les $(i-1)$ premières lignes de $U$ et les $(i-1)$ premières colonnes de $L$ sont connues, il est possible de déterminer la $i$-ème ligne de $U$ par:"
   ]
  },
  {
   "cell_type": "markdown",
   "metadata": {},
   "source": [
    "$$\n",
    "u_{ij} = a_{ij} - \\sum_{k=1}^{i-1} l_{ik}u_{kj} \\,, \\quad j \\geq i \\,,\n",
    "$$"
   ]
  },
  {
   "cell_type": "markdown",
   "metadata": {},
   "source": [
    "puis la $i$-ème colonne de $L$ par:"
   ]
  },
  {
   "cell_type": "markdown",
   "metadata": {},
   "source": [
    "$$\n",
    "l_{ji} = \\frac{1}{u_{ii}} \\left( a_{ji} - \\sum_{k=1}^{i-1} l_{jk}u_{ki} \\right) \\,, \\quad j > i\\  \\,.\n",
    "$$"
   ]
  },
  {
   "cell_type": "markdown",
   "metadata": {},
   "source": [
    "Pour que la décomposition LU d'une matrice $A$ soit possible il faut que les $u_{ii}$ ne soient jamais nuls. Cela est effectivement le cas lorsque la matrice $A$ et toutes ses sous-matrices principales sont inversibles.\n",
    "\n",
    "**a)**\n",
    "Écrire une fonction `LU(A)` qui retourne le résultat de la décomposition LU d'une matrice.\n",
    "\n"
   ]
  },
  {
   "cell_type": "markdown",
   "metadata": {},
   "source": [
    "\n",
    "**b)**\n",
    "Donnée la décomposition LU d'une matrice $A$, écrire une fonction `solve(L,U,b)` qui résout le système linéaire $A\\boldsymbol{x} =  \\boldsymbol{b}$.\n",
    "\n"
   ]
  },
  {
   "cell_type": "markdown",
   "metadata": {},
   "source": [
    "\n",
    "**c)**\n",
    "Écrire une fonction `LU_inplace(A)` qui ne crée pas de nouveaux tableaux pour $L$ et $U$ mais modifie $A$ de sorte que sa partie triangulaire inférieure (sans la diagonale) corresponde à $L$ et sa partie triangulaire supérieure (avec la diagonale) corresponde à $U$. Faire également une version `solve_inplace` prenant en entrée la sortie de `LU_inplace` et retournant la solution $\\boldsymbol{x}$, sans utiliser de nouveaux tableaux.\n",
    "\n"
   ]
  },
  {
   "cell_type": "markdown",
   "metadata": {},
   "source": [
    "\n",
    "**d)**\n",
    "En utilisant la décomposition LU de la matrice $A$, écrire une fonction `det(A)` qui retourne son déterminant.\n",
    "\n"
   ]
  },
  {
   "cell_type": "markdown",
   "metadata": {},
   "source": [
    "# Exercice 6.2: Méthode de la puissance itérée"
   ]
  },
  {
   "cell_type": "markdown",
   "metadata": {},
   "source": [
    "<div id=\"exer:algebre-power\"></div>\n",
    "\n",
    "Le but de cet exercice est de déterminer le vecteur propre d'une matrice associé à la valeur propre de plus grand module, en supposant que celle-ci est unique. Étant donné une matrice réelle $A$ de taille $n\\times n$ et un vecteur $\\boldsymbol{x}_0\\in\\mathbb{R}^n$, la suite de vecteurs $(\\boldsymbol{x}_k)_ {k\\in\\mathbb{N}}$ est définie par:"
   ]
  },
  {
   "cell_type": "markdown",
   "metadata": {},
   "source": [
    "$$\n",
    "\\boldsymbol{x}_{k+1} = \\frac{A\\boldsymbol{x}_k}{\\Vert A\\boldsymbol{x}_k\\Vert} \\,.\n",
    "$$"
   ]
  },
  {
   "cell_type": "markdown",
   "metadata": {},
   "source": [
    "En supposant par exemple que la matrice $A$ soit diagonalisable, alors il est possible de montrer que la suite $(\\boldsymbol{x}_k)_ {k\\in\\mathbb{N}}$ converge à un signe près vers le vecteur propre associé à la plus grande valeur propre de $A$ en valeur absolue. La convergence a lieu presque sûrement pour tous les choix de $\\boldsymbol{x}_0$.\n",
    "\n",
    "**a)**\n",
    "Définir une fonction `puissance(A, x0, k)` qui retourne $\\boldsymbol{x}_k$. Avec cette fonction, déterminer le plus grand vecteur propre de la matrice:"
   ]
  },
  {
   "cell_type": "markdown",
   "metadata": {},
   "source": [
    "$$\n",
    "A = \\begin{pmatrix}0.5 & 0.5\\\\ \n",
    "0.2 & 0.8\n",
    "\\end{pmatrix} \\,.\n",
    "$$"
   ]
  },
  {
   "cell_type": "markdown",
   "metadata": {},
   "source": [
    "\n",
    "**Réponse.**\n",
    "Le plus grand vecteur propre est $\\pm(0.70710678, 0.70710678)$.\n",
    "\n"
   ]
  },
  {
   "cell_type": "markdown",
   "metadata": {},
   "source": [
    "\n",
    "**b)**\n",
    "Déterminer la valeur propre associée au vecteur propre précédent.\n",
    "\n",
    "**Indication.**\n",
    "Si $\\boldsymbol{v}$ est un vecteur propre normalisé de $A$, alors la valeur propre associée est donnée par $\\lambda = A\\boldsymbol{v}\\cdot\\boldsymbol{v}$.\n",
    "\n"
   ]
  },
  {
   "cell_type": "markdown",
   "metadata": {},
   "source": [
    "\n",
    "**c)**\n",
    "Écrire un programme permettant de calculer automatiquement la valeur propre de plus grand module et le vecteur propre associé d'une matrice carrée avec une certaine précision donnée. On choisira le vecteur initial $\\boldsymbol{x}_0$ aléatoirement.\n",
    "\n"
   ]
  },
  {
   "cell_type": "markdown",
   "metadata": {},
   "source": [
    "\n",
    "**d)**\n",
    "En supposant la matrice $A$ diagonalisable avec une unique valeur propre de plus grand module, montrer que la suite $\\boldsymbol{x}_k$ converge à un signe près vers le vecteur propre associé à cette valeur propre de plus grand module pour presque tous les choix de $\\boldsymbol{x}_0$.\n",
    "\n",
    "**Indication.**\n",
    "Décomposer $\\boldsymbol{x}_0$ dans la base des vecteurs propres de $A$. Pour simplifier, on pourra supposer que la valeur propre de plus grand module est positive.\n",
    "\n"
   ]
  },
  {
   "cell_type": "markdown",
   "metadata": {},
   "source": [
    "\n",
    "**e)**\n",
    "Regarder la documentation de Numpy pour trouver les fonctions permettant de calculer les vecteurs propres et valeurs propres d'une matrice.\n",
    "\n"
   ]
  },
  {
   "cell_type": "markdown",
   "metadata": {},
   "source": [
    "\n",
    "**f)**\n",
    "Comparer la rapidité du code précédent et des fonctions Numpy pour des matrices de tailles $n\\times n$ avec $n=10,100,1 000$.\n",
    "\n",
    "**Indication.**\n",
    "En prenant par exemple des matrices dont les coefficients sont générés aléatoirement dans l'intervalle $(0,1)$, le théorème de Perron-Frobenius assure l'existence d'une unique valeur propre de module maximal et celle-ci est positive.\n",
    "\n"
   ]
  },
  {
   "cell_type": "markdown",
   "metadata": {},
   "source": [
    "# Exercice 6.3: Exponentielle de matrices"
   ]
  },
  {
   "cell_type": "markdown",
   "metadata": {},
   "source": [
    "Le but de cet exercice est de développer un algorithme permettant de calculer l'exponentielle d'une matrice réelle carrée. Si $A$ est une matrice réelle carrée, son exponentielle est définie par la série:"
   ]
  },
  {
   "cell_type": "markdown",
   "metadata": {},
   "source": [
    "$$\n",
    "\\exp(A) = \\sum_{k=0}^\\infty \\frac{A^k}{k!} \\,,\n",
    "$$"
   ]
  },
  {
   "cell_type": "markdown",
   "metadata": {},
   "source": [
    "par analogie avec l'exponentielle sur les nombres réels. Ici $A^k$ représente le produit matriciel de $A$ avec elle-même $k$ fois.\n",
    "\n",
    "**a)**\n",
    "Définir les tableaux Numpy correspondant aux matrices $A_1$ et $A_2$ définies par:"
   ]
  },
  {
   "cell_type": "markdown",
   "metadata": {},
   "source": [
    "$$\n",
    "\\begin{align*}\n",
    "A_{1} &= \\begin{pmatrix}\n",
    "1 & 0.8 & 0.6\\\\ \n",
    "0.8 & 0.2 & 0.8\\\\ \n",
    "0 & 1.2 & 0.9\n",
    "\\end{pmatrix} ,\n",
    "&\n",
    "A_{2}\t&= \\begin{pmatrix}\n",
    "2 & 3 & 2\\\\ \n",
    "1 & 2 & 3\\\\ \n",
    "4 & 3 & 5.2\n",
    "\\end{pmatrix} .\n",
    "\\end{align*}\n",
    "$$"
   ]
  },
  {
   "cell_type": "markdown",
   "metadata": {},
   "source": [
    "\n",
    "**b)**\n",
    "Définir une fonction `matrix_power(A,n=20)` retournant une approximation de $\\exp(A)$ obtenue en gardant uniquement les $n+1$ premiers termes de la série, *i.e.* les termes de $k=0$ à $k=n$.\n",
    "\n"
   ]
  },
  {
   "cell_type": "markdown",
   "metadata": {},
   "source": [
    "\n",
    "**c)**\n",
    "Tester sur les matrices $A_1$ et $A_2$ et comparer avec les résultats de la fonction `expm` du module `linalg` de Scipy.\n",
    "\n"
   ]
  },
  {
   "cell_type": "markdown",
   "metadata": {},
   "source": [
    "\n",
    "**d)**\n",
    "Sans utiliser la fonction `norm` de Numpy ou Scipy, définir une fonction calculant la norme de Frobenius $\\Vert A\\Vert_{F}$ d'une matrice $A$ de taille $m \\times m$ définie par:"
   ]
  },
  {
   "cell_type": "markdown",
   "metadata": {},
   "source": [
    "$$\n",
    "\\Vert A\\Vert_{F}^{2}=\\operatorname{tr}(AA^{t})=\\sum_{i=1}^{m}\\sum_{j=1}^{m}|a_{ij}|^{2} \\,.\n",
    "$$"
   ]
  },
  {
   "cell_type": "markdown",
   "metadata": {},
   "source": [
    "Calculer les normes de Frobenius des matrices $A_1$ et $A_2$.\n",
    "\n"
   ]
  },
  {
   "cell_type": "markdown",
   "metadata": {},
   "source": [
    "\n",
    "**e)**\n",
    "Pour les matrices $A_1$ et $A_2$, tracer l'erreur en norme de Frobenius entre le résultat de `matrix_power` et le résultat de `expm` en fonction du nombre de termes $n$ gardés. Mettre une échelle logarithmique sur l'axe des ordonnées.\n",
    "\n"
   ]
  },
  {
   "cell_type": "markdown",
   "metadata": {},
   "source": [
    "\n",
    "D'un point de vue théorique, il est possible de montrer que l'erreur est bornée par:"
   ]
  },
  {
   "cell_type": "markdown",
   "metadata": {},
   "source": [
    "$$\n",
    "\\left\\Vert \\exp(A)-\\sum_{k=0}^{n}\\frac{A^{k}}{k!}\\right\\Vert_{F} \\leq\\frac{e^{\\Vert A\\Vert_{F}}}{(n+1)!}\\Vert A\\Vert_{F}^{n+1} \\,.\n",
    "$$"
   ]
  },
  {
   "cell_type": "markdown",
   "metadata": {},
   "source": [
    "**f)**\n",
    "Tracer cette borne en fonction de $n$ pour différentes valeurs de la norme $\\Vert A\\Vert_{F}$ allant de $2$ à $20$, avec également une échelle logarithmique sur les ordonnées. En déduire grossièrement le nombre de termes à garder pour que la borne soit inférieure à la précision machine de $10^{-15}$ si $\\Vert A\\Vert_{F}=20$. Comparer la borne théorique avec ce qui a été observé à la question précédente.\n",
    "\n"
   ]
  },
  {
   "cell_type": "markdown",
   "metadata": {},
   "source": [
    "\n",
    "Une idée basique pour améliorer la convergence de la série lorsque la norme de la matrice est grande est d'effectuer un changement d'échelle à l'aide de la relation:"
   ]
  },
  {
   "cell_type": "markdown",
   "metadata": {},
   "source": [
    "$$\n",
    "\\exp{A} = \\bigl(\\exp(A/p)\\bigr)^p \\,.\n",
    "$$"
   ]
  },
  {
   "cell_type": "markdown",
   "metadata": {},
   "source": [
    "pour $p \\geq 1$ un entier bien choisi tel que $\\Vert A/p \\Vert_F$ soit petite, par exemple inférieure à un.\n",
    "\n",
    "**g)**\n",
    "En utilisant la propriété précédente, écrire une fonction `matrix_power_opt(A,n=20)` fondée sur cette propriété.\n",
    "\n"
   ]
  },
  {
   "cell_type": "markdown",
   "metadata": {},
   "source": [
    "\n",
    "**h)**\n",
    "Refaire le même graphique qu'au point **e** mais avec cette nouvelle fonction et commenter.\n",
    "\n"
   ]
  },
  {
   "cell_type": "markdown",
   "metadata": {},
   "source": [
    "# Exercice 6.4: Groupes de permutations"
   ]
  },
  {
   "cell_type": "markdown",
   "metadata": {},
   "source": [
    "<div id=\"exer:algebre-permutations\"></div>\n",
    "\n",
    "Le but est d'étudier les groupes de permutations en développant des algorithmes pour les caractériser. Un groupe de permutations $G \\subset S_n$ est défini comme étant généré par un certain nombre de permutations: $G = \\langle g_1, g_2,\\dots,g_k \\rangle$, avec $g_i\\in S_n$ une permutation de l'ensemble $\\{1,2,\\dots,n\\}$. Une permutation"
   ]
  },
  {
   "cell_type": "markdown",
   "metadata": {},
   "source": [
    "$$\n",
    "g = \\begin{pmatrix}1 & 2 & 3 & 4\\\\ \n",
    "4 & 1 & 2 & 3\n",
    "\\end{pmatrix} ,\n",
    "$$"
   ]
  },
  {
   "cell_type": "markdown",
   "metadata": {},
   "source": [
    "peut être représentée en Python par le tuple `g = (0, 4, 1, 2, 3)`. Le zéro est ajouté afin de se conformer avec l'indexation à partir de zéro de Python et ainsi de simplifier un peu les implémentations. Cela veut simplement dire que le sommet `0` va sur le sommet `0`. À noter que cet exercice se prête particulièrement bien à une implémentation orientée objet, et dans ce cas les questions peuvent être adaptées en conséquence.\n",
    "\n",
    "**a)**\n",
    "Écrire une fonction `product(g1,g2)` qui calcule le produit de deux permutations.\n",
    "\n"
   ]
  },
  {
   "cell_type": "markdown",
   "metadata": {},
   "source": [
    "\n",
    "**b)**\n",
    "Écrire une fonction `inverse(g)` qui calcule l'inverse d'une permutation.\n",
    "\n"
   ]
  },
  {
   "cell_type": "markdown",
   "metadata": {},
   "source": [
    "\n",
    "**c)**\n",
    "Écrire une fonction qui retourne la décomposition d'une permutation sous forme de cycles représentés par une liste du tuples.\n",
    "\n"
   ]
  },
  {
   "cell_type": "markdown",
   "metadata": {},
   "source": [
    "\n",
    "**d)**\n",
    "Écrire une fonction qui retourne la permutation correspondant à une liste de cycles, c'est-à-dire qui fait l'inverse de la fonction précédente.\n",
    "\n"
   ]
  },
  {
   "cell_type": "markdown",
   "metadata": {},
   "source": [
    "\n",
    "**e)**\n",
    "<font color=\"red\">!</font> En Python un groupe $G = \\langle g_1,g_2,\\dots,g_k \\rangle$ engendré par une famille de permutations, peut être représenté par une liste de permutations `G = [g1,g2,...,gk]`. Écrire une fonction `orbit(G,x)` qui retourne l'orbite d'un point $x\\in\\{1,2,\\dots,n\\}$:"
   ]
  },
  {
   "cell_type": "markdown",
   "metadata": {},
   "source": [
    "$$\n",
    "O_x = Gx = \\{gx, g \\in G\\} \\,.\n",
    "$$"
   ]
  },
  {
   "cell_type": "markdown",
   "metadata": {},
   "source": [
    "\n",
    "\n",
    "**Indication.**\n",
    "Ne pas calculer l'ensemble des éléments du groupe, cela fait une liste beaucoup trop longue. Construire la liste $(X^0,X^1,\\dots,X^N)$ d'ensembles disjoints définie récursivement par $X^0 = \\{x\\}$ et $X^n$ comme l'ensemble des éléments nouveaux de la forme $g_i y$ avec $1 \\leq i \\leq k$ et $y\\in X^{n-1}$:"
   ]
  },
  {
   "cell_type": "markdown",
   "metadata": {},
   "source": [
    "$$\n",
    "X^{n}=\\left(\\bigcup_{i=1}^{k}g_{i}X^{n-1}\\right)\\setminus\\left(\\bigcup_{i=1}^{n-1}X^{i}\\right) \\,.\n",
    "$$"
   ]
  },
  {
   "cell_type": "markdown",
   "metadata": {},
   "source": [
    "\n",
    "**f)**\n",
    "<font color=\"red\">!!</font> Définir une fonction `stabilizer(G,x)` qui retourne le stabilisateur d'un point $x\\in\\{1,2,\\dots,n\\}$:"
   ]
  },
  {
   "cell_type": "markdown",
   "metadata": {},
   "source": [
    "$$\n",
    "G_x = \\{g \\in G : g x = x \\} \\,,\n",
    "$$"
   ]
  },
  {
   "cell_type": "markdown",
   "metadata": {},
   "source": [
    "sous la forme d'un ensemble de générateurs.\n",
    "\n",
    "**Indication.**\n",
    "Utiliser le théorème ou lemme de Schreier.\n",
    "\n"
   ]
  }
 ],
 "metadata": {
  "kernelspec": {
   "display_name": "Python 3",
   "language": "python",
   "name": "python3"
  },
  "language_info": {
   "codemirror_mode": {
    "name": "ipython",
    "version": 3
   },
   "file_extension": ".py",
   "mimetype": "text/x-python",
   "name": "python",
   "nbconvert_exporter": "python",
   "pygments_lexer": "ipython3",
   "version": "3.8.5"
  }
 },
 "nbformat": 4,
 "nbformat_minor": 4
}