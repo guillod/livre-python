{
 "cells": [
  {
   "cell_type": "markdown",
   "metadata": {},
   "source": [
    "<div style=\"width:100%\"><a href=\"https://www.dunod.com/sciences-techniques/programmation-python-par-pratique-exercices-et-problemes-corriges\"><img src=\"https://python.guillod.org/livre/banner.png\"/></a></div>\n",
    "\n",
    "Ce fichier reflète les énoncés des exercices d'un chapitre du livre *[Programmation Python par la pratique](https://www.dunod.com/sciences-techniques/programmation-python-par-pratique-exercices-et-problemes-corriges)*. Tous les énoncés peuvent être téléchargés au format [Jupyter Notebook](https://python.guillod.org/livre/) ou exécutés directement en ligne sur [GESIS](https://notebooks.gesis.org/binder/v2/gh/guillod/livre-python/master?urlpath=lab). Les corrigés sont disponibles dans le livre en version papier (ISBN [9782100815142](https://www.dunod.com/sciences-techniques/programmation-python-par-pratique-exercices-et-problemes-corriges)) ou numérique (ISBN [9782100819089](https://www.dunod.com/sciences-techniques/programmation-python-par-pratique-exercices-et-problemes-corriges)) publiés chez Dunod. Ce fichier reflète les exercices tels que publiés dans cet ouvrage et diffère quelque peu des exercices présentés à la page [python.guillod.org](https://python.guillod.org/)."
   ]
  },
  {
   "cell_type": "markdown",
   "metadata": {},
   "source": [
    "# 10 Probabilités et statistiques"
   ]
  },
  {
   "cell_type": "markdown",
   "metadata": {},
   "source": [
    "<div id=\"ch:proba-stats\"></div>\n",
    "\n",
    "Dans un premier temps, la statistique de la proportion de nombres commençant par un certain chiffre sera étudiée. Puis dans un second, des modèles probabilistes importants seront introduits et simulés, comme les marches aléatoires ou la percolation.\n",
    "\n",
    "**Concepts abordés:**\n",
    "\n",
    "* statistiques et probabilités\n",
    "\n",
    "* série harmonique aléatoire\n",
    "\n",
    "* marche aléatoire\n",
    "\n",
    "* percolation\n",
    "\n",
    "* transition de phase\n",
    "\n",
    "* histogrammes\n",
    "\n",
    "* importation de données\n",
    "\n",
    "* optimisation par compilation\n",
    "\n"
   ]
  },
  {
   "cell_type": "markdown",
   "metadata": {},
   "source": [
    "# Exercice 10.1: Loi de Benford"
   ]
  },
  {
   "cell_type": "markdown",
   "metadata": {},
   "source": [
    "La loi de Benford prédit que statistiquement dans une liste de nombres donnés, la probabilité qu'un de ces nombres commence par le chiffre 1 est plus importante que celle qu'il commence par le chiffre 9. Plus précisément la loi de Benford prédit que la probabilité qu'un nombre commence par le chiffre $d$ est:"
   ]
  },
  {
   "cell_type": "markdown",
   "metadata": {},
   "source": [
    "$$\n",
    "p_d = \\log_{10}\\bigg(1+\\frac{1}{d}\\bigg) \\,,\n",
    "$$"
   ]
  },
  {
   "cell_type": "markdown",
   "metadata": {},
   "source": [
    "où $\\log_{10}$ désigne le logarithme en base 10.\n",
    "Il est possible de vérifier que la loi de Benford est la seule qui reste invariante par changement d'unités, *i.e.* en multipliant les nombres de la liste par une constante les probabilités précédentes restent inchangées.\n",
    "\n",
    "**a)**\n",
    "Écrire une fonction `firstdigit(n)` qui pour un nombre `n` donné retourne son premier chiffre et une fonction `occurrences(liste)` qui retourne le nombre d'occurrences des premiers chiffres de `liste`.\n",
    "\n",
    "**Indication.**\n",
    "Faire en sorte que la fonction `occurrences` fonctionne même si la liste contient des zéros en les ignorant.\n",
    "\n"
   ]
  },
  {
   "cell_type": "markdown",
   "metadata": {},
   "source": [
    "\n",
    "\n",
    "**b)**\n",
    "Vérifier si la loi de Benford semble satisfaite pour la suite des nombres $(2^n)_ {n\\in\\mathbb{N}}$ en comparant l'histogramme empirique avec la loi de Benford.\n",
    "\n"
   ]
  },
  {
   "cell_type": "markdown",
   "metadata": {},
   "source": [
    "\n",
    "**c)**\n",
    "Vérifier si la loi de Benford semble satisfaite pour la suite des nombres $(3n+1)_ {n\\in\\mathbb{N}}$.\n",
    "\n"
   ]
  },
  {
   "cell_type": "markdown",
   "metadata": {},
   "source": [
    "\n",
    "**d)**\n",
    "En allant sur le site de l'INSEE à l'adresse: <https://insee.fr/fr/statistiques/4171341?sommaire=4171351>, télécharger le fichier au format TXT contenant les données de la population par sexe et âge regroupé (POP1A). Importer ces données pour avoir la population par code postal, sexe et tranche d'âge.\n",
    "\n",
    "**Indication.**\n",
    "La documentation sur comment lire un fichier est disponible [ici](https://docs.python.org/fr/3/tutorial/inputoutput.html#reading-and-writing-files). À noter que les fichiers TXT de l'INSEE sont encodés au format ISO-8859-1.\n",
    "\n"
   ]
  },
  {
   "cell_type": "markdown",
   "metadata": {},
   "source": [
    "\n",
    "**e)**\n",
    "Déterminer si la liste de toutes les populations par commune, sexe et âge suit la loi de Benford.\n",
    "\n"
   ]
  },
  {
   "cell_type": "markdown",
   "metadata": {},
   "source": [
    "\n",
    "**f)**\n",
    "Sommer les données précédentes pour obtenir la liste des populations par commune et déterminer si elle suit la loi de Benford.\n",
    "\n"
   ]
  },
  {
   "cell_type": "markdown",
   "metadata": {},
   "source": [
    "\n",
    "**g)**\n",
    "<font color=\"red\">!!</font> Lire la documentation du module Pandas disponible [ici](https://pandas.pydata.org/docs/) et l'utiliser pour refaire les deux questions précédentes mais avec le fichier de population POP1B avec les âges non regroupés.\n",
    "\n",
    "**Indication.**\n",
    "Utiliser la fonction `read_csv` de Pandas.\n",
    "\n"
   ]
  },
  {
   "cell_type": "markdown",
   "metadata": {},
   "source": [
    "\n",
    "\n",
    "**h)**\n",
    "<font color=\"red\">!!</font> En allant sur le site de l'INSEE ou autre télécharger son jeu de données préféré et tester s'il suit la loi de Benford.\n",
    "\n",
    "**Indication.**\n",
    "Utiliser par exemple les comptes détaillés de l'État disponibles [ici](https://www.data.gouv.fr/fr/datasets/donnees-de-comptabilite-generale-de-letat/).\n",
    "\n"
   ]
  },
  {
   "cell_type": "markdown",
   "metadata": {},
   "source": [
    "# Exercice 10.2: Série harmonique de signe aléatoire"
   ]
  },
  {
   "cell_type": "markdown",
   "metadata": {},
   "source": [
    "\n",
    "\n",
    "Le but de cet exercice est de simuler la convergence d'une série harmonique donc le signe est tiré aléatoirement. Plus précisément si $(X_i)_{i\\in\\mathbb{N}}$ est une suite de variables aléatoires indépendantes valant $-1$ ou $1$ avec probabilité $\\frac{1}{2}$, alors on définit la somme partielle:"
   ]
  },
  {
   "cell_type": "markdown",
   "metadata": {},
   "source": [
    "$$\n",
    "W_0 = 0 \\,, \\qquad\\qquad W_n = \\sum_{i=1}^n \\frac{X_i}{i} \\,,\n",
    "$$"
   ]
  },
  {
   "cell_type": "markdown",
   "metadata": {},
   "source": [
    "et la question est de déterminer si la suite $(W_n)_{n\\in\\mathbb{N}}$ converge et si oui vers quoi.\n",
    "\n",
    "**a)**\n",
    "Écrire une fonction `sign()` qui simule la variable aléatoire $X_i$.\n",
    "\n"
   ]
  },
  {
   "cell_type": "markdown",
   "metadata": {},
   "source": [
    "\n",
    "**b)**\n",
    "Écrire une fonction `simulate(n)` qui retourne une liste avec une réalisation de $(W_0,W_1,W_2,\\dots,W_n)$.\n",
    "\n"
   ]
  },
  {
   "cell_type": "markdown",
   "metadata": {},
   "source": [
    "\n",
    "**c)**\n",
    "Faire la représentation graphique de la fonction $n \\mapsto W_n$ pour différentes réalisations par exemple pour $0\\leq n\\leq 1 000$ et émettre une conjecture quant à la convergence de la suite $(W_n)_{n\\in\\mathbb{N}}$.\n",
    "\n"
   ]
  },
  {
   "cell_type": "markdown",
   "metadata": {},
   "source": [
    "\n",
    "**d)**\n",
    "<font color=\"red\">!</font>\n",
    "Déterminer l'histogramme de $W_{1 000}$ pour $10^4$ ou $10^5$ réalisations pour avoir une idée de la loi de la variable aléatoire limite.\n",
    "\n"
   ]
  },
  {
   "cell_type": "markdown",
   "metadata": {},
   "source": [
    "# Exercice 10.3: Ruine du joueur"
   ]
  },
  {
   "cell_type": "markdown",
   "metadata": {},
   "source": [
    "Le but est de simuler l'évolution de la somme d'argent d'un joueur jouant à pile ou face. À chaque lancer le joueur gagne un euro si c'est pile et en perd un si c'est face. La probabilité d'obtenir pile est notée $p$, celle d'obtenir face $q$. En particulier $p=q=\\frac{1}{2}$ si la pièce est équilibrée.\n",
    "\n",
    "Mathématiquement, la somme $S_i$ possédée par le joueur au temps $i$ est donnée par une marche aléatoire:"
   ]
  },
  {
   "cell_type": "markdown",
   "metadata": {},
   "source": [
    "$$\n",
    "S_{i}=\\begin{cases}\n",
    "0\\,, & \\text{si}\\:S_{i-1}=0\\,,\\\\ \n",
    "S_{i-1}+X_{i}\\,, & \\text{si}\\:S_{i-1}\\geq1\\,,\n",
    "\\end{cases}\n",
    "$$"
   ]
  },
  {
   "cell_type": "markdown",
   "metadata": {},
   "source": [
    "où les $(X_i)_ {i\\geq1}$ sont des variables aléatoires indépendantes de loi $\\mathbb{P}(X_i=1) = p$ et $\\mathbb{P}(X_i=-1) = q$.\n",
    "\n",
    "**a)**\n",
    "Écrire une fonction `simulate(p,k,N)` qui génère une réalisation de longueur $N$ du processus à partir de $S_0=k$, c'est-à-dire qui retourne $(S_0,S_1,S_2,\\dots,S_N)$. Représenter graphiquement plusieurs réalisations.\n",
    "\n"
   ]
  },
  {
   "cell_type": "markdown",
   "metadata": {},
   "source": [
    "\n",
    "**b)**\n",
    "Simuler un joueur qui, commençant avec une somme $k$, joue jusqu'à tout perdre ou avoir la somme $n \\geq k$.\n",
    "\n"
   ]
  },
  {
   "cell_type": "markdown",
   "metadata": {},
   "source": [
    "\n",
    "**c)**\n",
    "Si $T$ désigne le temps auquel le jeu s'arrête, *i.e.* lorsque $S_T = 0$ ou $S_T = n$, retrouver par simulation les résultats théoriques sur le temps moyen:"
   ]
  },
  {
   "cell_type": "markdown",
   "metadata": {},
   "source": [
    "$$\n",
    "\\mathbb{E}(T)=\\begin{cases}\n",
    "k(n-k)\\,, & \\text{si}\\:p=q\\,,\\\\ \n",
    "\\dfrac{n}{p-q}\\dfrac{1-\\rho^{k}}{1-\\rho^{n}}-\\dfrac{k}{p-q}\\,, & \\text{si}\\:p\\neq q\\,,\n",
    "\\end{cases}\n",
    "$$"
   ]
  },
  {
   "cell_type": "markdown",
   "metadata": {},
   "source": [
    "et le lieu de sortie:"
   ]
  },
  {
   "cell_type": "markdown",
   "metadata": {},
   "source": [
    "$$\n",
    "\\mathbb{P}(S_{T}=0)=\\begin{cases}\n",
    "\\dfrac{n-k}{n}\\,, & \\text{si}\\:p=q\\,,\\4pt]\n",
    "\\dfrac{\\rho^{k}-\\rho^{n}}{1-\\rho^{n}}\\,, & \\text{si}\\:p\\neq q\\,,\n",
    "\\end{cases}\n",
    "$$"
   ]
  },
  {
   "cell_type": "markdown",
   "metadata": {},
   "source": [
    "où $\\rho = q/p$. Pour cela on pourra faire un graphique de ces quantités en fonction de $p$ ou se contenter de considérer le cas $p=q=\\frac{1}{2}$.\n",
    "\n"
   ]
  },
  {
   "cell_type": "markdown",
   "metadata": {},
   "source": [
    "# Exercice 10.4: Urnes de Polya"
   ]
  },
  {
   "cell_type": "markdown",
   "metadata": {},
   "source": [
    "Une urne contient initialement (à $t=0$) $r_0$ boules rouges et $b_0$ boules blanches. À chaque instant, on tire une boule uniformément au hasard dans l'urne. On remet ensuite cette boule dans l'urne et on y ajoute une boule de la même couleur. Un tel système s'appelle une *urne de Polya*.\n",
    "Le but de cet exercice est d'étudier le comportement de la fraction de boules rouges dans l'urne, c'est-à-dire le nombre de boules rouges sur le nombre total.\n",
    "On appellera respectivement $r_n$ et $b_n$ le nombre de boules rouges et blanches présentes dans l'urne à l'instant $n$.\n",
    "\n",
    "**a)**\n",
    "Écrire une fonction `densite` prenant en argument un tuple représentant le nombre de boules rouges et blanches dans une urne, et qui renvoie la densité de boules rouges.\n",
    "\n"
   ]
  },
  {
   "cell_type": "markdown",
   "metadata": {},
   "source": [
    "\n",
    "\n",
    "On veut construire de manière récursive la distribution du nombre de boules rouges au temps $n$, c'est-à-dire la liste des probabilités que le nombre de boules rouges soit égal à un entier donné $k$ (qui sera l'indice de la liste). Cela se fait en écrivant deux fonctions : `next_dist_rouge`, prenant en argument la distribution à un instant $n$ et qui renvoie celle à l'instant $n+1$, qui est donc la fonction qui fait tout le travail, et `dist_rouge` qui est la fonction d'enrobage, prenant en argument $r_0$, $b_0$ et le temps $n$ et qui nous renvoie la distribution au temps $n$ par un appel récursif.\n",
    "On utilisera les faits utiles suivants (faire un petit dessin):\n",
    "* La distribution passée en argument à `next_dist_rouge` est une liste `r` et `r[k]` représente la probabilité d'avoir `k` boules rouges dans l'urne à l'instant $n$. Les indices pour `r` varient de 0 au nombre total `s` de boules à l'instant $n$.\n",
    "\n",
    "* Au temps $n+1$, pour avoir $k$ boules rouges, il faut:\n",
    "\n",
    "  * soit avoir eu $k$ boules rouges à l'instant précédent et ne pas avoir tiré une boule rouge;\n",
    "\n",
    "  * soit avoir eu $k-1$ boules rouges à l'instant précédent et avoir tiré une boule rouge.\n",
    "\n",
    "* Si $n=0$, le résultat de `dist_rouge` est complètement déterministe et les coefficients de la liste ne sont que des 0 et 1, dépendant de $r_0$ et $b_0$.\n",
    "\n",
    "**b)**\n",
    "Écrire les fonctions `next_dist_rouge` et `dist_rouge` en utilisant les indications fournies. Regarder le résultat de `dist_rouge(0,1,n)` et `dist_rouge(1,1,n)` pour différentes valeurs de `n` $(1,2,5,10,20,\\dots)$ et commenter.\n",
    "\n"
   ]
  },
  {
   "cell_type": "markdown",
   "metadata": {},
   "source": [
    "\n",
    "\n",
    "Plutôt que de calculer théoriquement pour chaque $n$ la suite des probabilités théoriques, nous allons faire des statistiques sur un grand nombre d'évolutions d'urnes de Polya, au bout d'un grand nombre d'étapes. Pour cela, il nous faut une fonction pour faire évoluer une urne de Polya.\n",
    "\n",
    "**c)**\n",
    "Définir une fonction `polya_step(r,b)` qui, à partir de la composition d'une urne passée sous forme de deux paramètres `r` et `b`, renvoie l'évolution (aléatoire) après une étape de la composition de l'urne sous forme d'un tuple. Définir également une fonction `polya(r0,b0,N)` prenant en argument $r_0$, $b_0$ et $N$ en paramètres et renvoyant la composition (aléatoire) d'une urne de Polya au bout de $N$ étapes, aussi sous forme de tuple.\n",
    "\n"
   ]
  },
  {
   "cell_type": "markdown",
   "metadata": {},
   "source": [
    "\n",
    "**d)**\n",
    "Écrire une fonction `data_rdens_polya(r0,b0,N,nbexp)` qui renvoie une liste de longueur `nbexp` contenant les densités de `nbexp` réalisations d'urnes de Polya au temps `N` initialisées avec `r0` boules rouges et `b0` boules blanches.\n",
    "\n"
   ]
  },
  {
   "cell_type": "markdown",
   "metadata": {},
   "source": [
    "\n",
    "**e)**\n",
    "Stocker dans une variable le résultat de `data_rdens_polya(2,3,1000,10000)` et dessiner un histogramme pour voir la répartition des densités. Attention, on veut que les hauteurs des barres soient normalisées pour que leur surface représente la proportion de points, et non pour qu'elles donnent le nombre de points par *bin*.\n",
    "\n",
    "**Indication.**\n",
    "Une bonne règle de départ est de choisir le nombre de boîtes (*bins*) pour un histogramme de l'ordre de la racine carrée du nombre de points. Consulter la documentation de la fonction `hist` de Matplotlib.\n",
    "\n"
   ]
  },
  {
   "cell_type": "markdown",
   "metadata": {},
   "source": [
    "# Exercice 10.5: <font color=\"red\">!!</font> Percolation"
   ]
  },
  {
   "cell_type": "markdown",
   "metadata": {},
   "source": [
    "Le but est d'étudier un modèle de percolation dans un milieu poreux. Le milieu est modélisé par une matrice aléatoire de booléens qui détermine les sites qui peuvent être envahis par l'eau et ceux qui sont imperméables. Une matrice percole s'il existe un chemin d'eau allant de la ligne supérieure vers la ligne inférieure.\n",
    "Dans les exemples suivants, les entrées d'une matrice pouvant être envahies par l'eau sont colorées et les entrées effectivement remplies d'eau sont en bleu. La première matrice ne percole pas alors que la seconde oui:\n",
    "\n",
    "<center><img src=\"data:image/png;base64,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\" style=\"width:90%;max-width:800px;\"></center>\n",
    "\n",
    "**a)**\n",
    "Écrire une fonction `generate(n,p)` qui génère une matrice de booléens de taille $n \\times n$ telle que chaque entrée ait probabilité $p$ d'être juste et $1-p$ d'être fausse.\n",
    "\n",
    "**Indication.**\n",
    "La fonction `random.binomial` de Numpy peut être utile.\n",
    "\n"
   ]
  },
  {
   "cell_type": "markdown",
   "metadata": {},
   "source": [
    "\n",
    "**b)**\n",
    "Définir une fonction `fill(isopen)` qui pour une matrice de booléens donnée renvoie une autre matrice de booléens avec les entrées envahies par l'eau.\n",
    "\n",
    "**Indication.**\n",
    "Définir une matrice de booléens `isfull` pour stocker si une entrée est remplie par l'eau ou pas, puis définir une fonction récursive `flow(isopen, isfull, i, j)` permettant d'envahir toutes les entrées possibles à partir de $(i,j)$.\n",
    "\n"
   ]
  },
  {
   "cell_type": "markdown",
   "metadata": {},
   "source": [
    "\n",
    "**c)**\n",
    "À l'aide de Matplotlib représenter le remplissage de différentes matrices générées aléatoirement.\n",
    "\n"
   ]
  },
  {
   "cell_type": "markdown",
   "metadata": {},
   "source": [
    "\n",
    "**d)**\n",
    "Définir une fonction `percolate(isopen)` permettant de déterminer si une matrice de booléens percole ou non.\n",
    "\n"
   ]
  },
  {
   "cell_type": "markdown",
   "metadata": {},
   "source": [
    "\n",
    "**e)**\n",
    "<font color=\"red\">!!</font> Calculer le temps nécessaire pour déterminer si une matrice de taille $50 \\times 50$ avec $p=0.9$ percole ou non. Lire la documentation du module Numba pour réduire le temps de calcul en compilant une des fonctions: <https://numba.pydata.org/>.\n",
    "\n",
    "**Indication.**\n",
    "La fonction qui est la plus utilisée est la fonction récursive, donc c'est celle qu'il faut optimiser en la compilant.\n",
    "\n"
   ]
  },
  {
   "cell_type": "markdown",
   "metadata": {},
   "source": [
    "\n",
    "**f)**\n",
    "En faisant des statistiques, déterminer la probabilité qu'une matrice aléatoire booléenne de taille $n \\times n$ avec probabilité $p$ percole. Étudier cette probabilité en fonction de $p$ et de $n$.\n",
    "\n",
    "**Indication.**\n",
    "Faire le graphique de cette probabilité de percolation en fonction de $p$ pour différentes valeurs de $n$.\n",
    "\n",
    "**Réponse.**\n",
    "Dans la limite des $n$ très grands, une matrice percole presque sûrement si $p>0.592746$ et presque jamais sinon.\n",
    "\n"
   ]
  },
  {
   "cell_type": "markdown",
   "metadata": {},
   "source": [
    "\n",
    "**g)**\n",
    "<font color=\"red\">!!!</font> Les statistiques effectuées au point précédent sont un exemple typique de calculs pouvant être facilement exécutés en parallèle, car chaque cas est indépendant des autres. Paralléliser l'algorithme précédent de manière à utiliser tous les cœurs de son processeur, par exemple à l'aide du module [`mpi4py`](https://mpi4py.readthedocs.io/).\n",
    "\n",
    "**Indication.**\n",
    "L'utilisation de Jupyter Lab pour faire du calcul parallèle est assez complexe à mettre en œuvre, il vaut mieux utiliser la ligne de commande pour exécuter un script en parallèle, par exemple pour quatre cœurs: `mpirun -n 4 script.py`. À noter que [Open MPI](https://www.open-mpi.org/) ou [MPICH](https://www.mpich.org/) doit être installé sur l'ordinateur.\n",
    "\n"
   ]
  }
 ],
 "metadata": {
  "kernelspec": {
   "display_name": "Python 3",
   "language": "python",
   "name": "python3"
  },
  "language_info": {
   "codemirror_mode": {
    "name": "ipython",
    "version": 3
   },
   "file_extension": ".py",
   "mimetype": "text/x-python",
   "name": "python",
   "nbconvert_exporter": "python",
   "pygments_lexer": "ipython3",
   "version": "3.8.5"
  }
 },
 "nbformat": 4,
 "nbformat_minor": 4
}